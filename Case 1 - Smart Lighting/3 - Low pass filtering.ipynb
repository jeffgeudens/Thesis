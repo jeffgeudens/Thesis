{
 "cells": [
  {
   "cell_type": "markdown",
   "metadata": {},
   "source": [
    "# About this notebook\n",
    "\n",
    "In this notebook, a low pass filter will implemented to detect anomalies in time-series data of battery voltages. First the necessay data is loaded from local files, next the necessary functions are defined for labelling anomalies and visualizing them. In the last part, this algorithm is applied to both an anomalous battery pack and normal battery pack to tweak the parameters needed for the anomaly detection.\n",
    "\n",
    "## Input\n",
    " * basePath leading to the stored local .csv-files\n",
    " * things and metrics that are needed - in this case the battery voltages\n",
    "\n",
    "## To be tweaked\n",
    " * window_size\n",
    " * sigma\n",
    " * fixed_std\n",
    " \n",
    "## Output\n",
    " * Nr of detected anomalies in function of the chosen parameters\n",
    " * Visualization of the anomalies"
   ]
  },
  {
   "cell_type": "markdown",
   "metadata": {},
   "source": [
    "# Import libraries"
   ]
  },
  {
   "cell_type": "code",
   "execution_count": 1,
   "metadata": {},
   "outputs": [],
   "source": [
    "import pandas as pd\n",
    "from plotly.offline import iplot, init_notebook_mode\n",
    "import plotly.graph_objs as go\n",
    "import plotly.io as pio"
   ]
  },
  {
   "cell_type": "code",
   "execution_count": 5,
   "metadata": {},
   "outputs": [],
   "source": [
    "basePath = r'D:\\Documents\\Thesis\\Case 1 - data'\n",
    "# basePath = r'C:\\Users\\JeffG\\Desktop\\Case 1 - data'"
   ]
  },
  {
   "cell_type": "markdown",
   "metadata": {},
   "source": [
    "# Load battery data"
   ]
  },
  {
   "cell_type": "code",
   "execution_count": 6,
   "metadata": {},
   "outputs": [],
   "source": [
    "def merge_in_dataframe(thingID, listOfMetrics, basePath):\n",
    "    \"\"\"\n",
    "    This function takes all the merged .csv-files and gathers them in one big DataFrame.\n",
    "    This DataFrame contains 5min averages of all the values.\n",
    "\n",
    "    Args:\n",
    "        thingID: The ID of a Thing as defined on the IoT-stack explorer\n",
    "        listOfMetrics: List of metrics you want to query as defined on the IoT-stack explorer\n",
    "        basePath: path to the base folder of your project\n",
    "\n",
    "    Returns:\n",
    "        DataFrame containg 5min averages of all the metrics defined in the listOfMetrics.\n",
    "    \"\"\"\n",
    "    for i in range(0,len(listOfMetrics)):\n",
    "        metricID = listOfMetrics[i]\n",
    "        # Set path\n",
    "        if thingID == 'davis.davis.weather.1':\n",
    "            path=basePath +'\\\\weather_data'\n",
    "        else:\n",
    "            path=basePath + '\\\\battery_data' + '\\\\' + str(thingID)\n",
    "        # Read csv file in DataFrame\n",
    "        df = pd.read_csv(path+'\\\\'+metricID+'_merged.csv',usecols=['time','value'])\n",
    "    \n",
    "        if(i==0):\n",
    "            # Select timestamp and value from results\n",
    "            data = df[['time','value']]\n",
    "            # Convert object to float (BatteryVoltHR is an object for example)\n",
    "            data[\"value\"] = pd.to_numeric(data.value, errors='coerce')\n",
    "            # Rename the column\n",
    "            data.rename(columns={'value': metricID}, inplace=True)\n",
    "            # Calculate average for time bin and replace NaN with interpolation\n",
    "            data['time'] = pd.to_datetime(data.time, unit='ms')\n",
    "            data = data.resample(rule='5Min', on='time').mean().interpolate()\n",
    "        else:\n",
    "            data2 = df[['time','value']]\n",
    "            # Convert object to float (BatteryVoltHR is an object for example)\n",
    "            data2[\"value\"] = pd.to_numeric(data2.value, errors='coerce')\n",
    "            # Rename the column\n",
    "            data2.rename(columns={'value':metricID}, inplace=True)\n",
    "            # Calculate average for time bin and replace NaN with interpolation\n",
    "            data2['time'] = pd.to_datetime(data2.time, unit='ms')\n",
    "            data2 = data2.resample(rule='5Min', on='time').mean().interpolate()\n",
    "            data = pd.merge(data, data2, on='time')\n",
    "        \n",
    "    return data"
   ]
  },
  {
   "cell_type": "code",
   "execution_count": 27,
   "metadata": {},
   "outputs": [
    {
     "data": {
      "text/html": [
       "<div>\n",
       "<style scoped>\n",
       "    .dataframe tbody tr th:only-of-type {\n",
       "        vertical-align: middle;\n",
       "    }\n",
       "\n",
       "    .dataframe tbody tr th {\n",
       "        vertical-align: top;\n",
       "    }\n",
       "\n",
       "    .dataframe thead th {\n",
       "        text-align: right;\n",
       "    }\n",
       "</style>\n",
       "<table border=\"1\" class=\"dataframe\">\n",
       "  <thead>\n",
       "    <tr style=\"text-align: right;\">\n",
       "      <th></th>\n",
       "      <th>Power.BatteryVoltHR</th>\n",
       "    </tr>\n",
       "    <tr>\n",
       "      <th>time</th>\n",
       "      <th></th>\n",
       "    </tr>\n",
       "  </thead>\n",
       "  <tbody>\n",
       "    <tr>\n",
       "      <th>2018-08-31 09:50:00</th>\n",
       "      <td>15.995</td>\n",
       "    </tr>\n",
       "    <tr>\n",
       "      <th>2018-08-31 09:55:00</th>\n",
       "      <td>15.995</td>\n",
       "    </tr>\n",
       "    <tr>\n",
       "      <th>2018-08-31 10:00:00</th>\n",
       "      <td>15.990</td>\n",
       "    </tr>\n",
       "    <tr>\n",
       "      <th>2018-08-31 10:05:00</th>\n",
       "      <td>16.000</td>\n",
       "    </tr>\n",
       "    <tr>\n",
       "      <th>2018-08-31 10:10:00</th>\n",
       "      <td>16.000</td>\n",
       "    </tr>\n",
       "  </tbody>\n",
       "</table>\n",
       "</div>"
      ],
      "text/plain": [
       "                     Power.BatteryVoltHR\n",
       "time                                    \n",
       "2018-08-31 09:50:00               15.995\n",
       "2018-08-31 09:55:00               15.995\n",
       "2018-08-31 10:00:00               15.990\n",
       "2018-08-31 10:05:00               16.000\n",
       "2018-08-31 10:10:00               16.000"
      ]
     },
     "execution_count": 27,
     "metadata": {},
     "output_type": "execute_result"
    }
   ],
   "source": [
    "thingID = 'munisense.msup1g30034'\n",
    "battery_metricsList = ['Power.BatteryVoltHR']\n",
    "battery_data_1 = merge_in_dataframe(thingID, battery_metricsList, basePath)\n",
    "battery_data_1.head()"
   ]
  },
  {
   "cell_type": "code",
   "execution_count": null,
   "metadata": {},
   "outputs": [],
   "source": [
    "thingID = 'munisense.msup1i70124'\n",
    "battery_metricsList = ['Power.BatteryVoltHR']\n",
    "battery_data_2 = merge_in_dataframe(thingID, battery_metricsList, basePath)\n",
    "battery_data_2.head()"
   ]
  },
  {
   "cell_type": "code",
   "execution_count": null,
   "metadata": {},
   "outputs": [],
   "source": [
    "thingID = 'munisense.msup1h90115'\n",
    "battery_metricsList = ['Power.BatteryVoltHR']\n",
    "battery_data_3 = merge_in_dataframe(thingID, battery_metricsList, basePath)\n",
    "battery_data_3.head()"
   ]
  },
  {
   "cell_type": "markdown",
   "metadata": {},
   "source": [
    "# Define functions"
   ]
  },
  {
   "cell_type": "markdown",
   "metadata": {},
   "source": [
    "## Label anomalies"
   ]
  },
  {
   "cell_type": "code",
   "execution_count": 10,
   "metadata": {},
   "outputs": [],
   "source": [
    "def label_anomaly_fixed_std (row, sigma, fixed_std):\n",
    "    \"\"\"\n",
    "    This function labels data points to be anomalous if they differ a certain times the standard deviation from the moving average.\n",
    "\n",
    "    Args:\n",
    "        row: A row of a dataframe that needs to be labelled. The row needs to contain a battery voltage and a moving average.\n",
    "        sigma: nr of standard deviations the difference needs to be\n",
    "        fixed_std: a fixed standard deviation\n",
    "\n",
    "    Returns:\n",
    "        1 if the data point is anomalous\n",
    "        0 if the data point is not anomalous\n",
    "    \"\"\"\n",
    "    if (row['Power.BatteryVoltHR'] > (row['moving_average'] + (sigma * fixed_std))) | (row['Power.BatteryVoltHR'] < (row['moving_average'] - (sigma * fixed_std))):\n",
    "        return 1\n",
    "    else:\n",
    "        return 0"
   ]
  },
  {
   "cell_type": "code",
   "execution_count": 11,
   "metadata": {},
   "outputs": [],
   "source": [
    "def label_anomaly_moving_std (row, sigma):\n",
    "    \"\"\"\n",
    "    This function labels data points to be anomalous if they differ a certain times the standard deviation from the moving average.\n",
    "    The standard deviation is also calculated in a moving window.\n",
    "\n",
    "    Args:\n",
    "        row: A row of a dataframe that needs to be labelled. The row needs to contain a battery voltage and a moving average.\n",
    "        sigma: nr of standard deviations the difference needs to be\n",
    "\n",
    "    Returns:\n",
    "        1 if the data point is anomalous\n",
    "        0 if the data point is not anomalous\n",
    "    \"\"\"\n",
    "    if (row['Power.BatteryVoltHR'] > (row['moving_average'] + (sigma * row['moving_std']))) | (row['Power.BatteryVoltHR'] < (row['moving_average'] - (sigma * row['moving_std']))):\n",
    "        return 1\n",
    "    else:\n",
    "        return 0"
   ]
  },
  {
   "cell_type": "markdown",
   "metadata": {},
   "source": [
    "## Low pass filtering"
   ]
  },
  {
   "cell_type": "code",
   "execution_count": 12,
   "metadata": {},
   "outputs": [],
   "source": [
    "def low_pass_filtering(df, window_size, sigma, fixed_std):\n",
    "    \"\"\"\n",
    "    This function takes a dataframe and flags the anomalies based on a fixed and a moving standard deviation.\n",
    "\n",
    "    Args:\n",
    "        df: Dataframe containing the battery voltage\n",
    "        window_size: window size to calculate a moving average and moving standard deviation\n",
    "        sigma: number of standard deviation the difference needs to be \n",
    "        fixed_std: a static threshol for the standard deviation\n",
    "\n",
    "    Returns:\n",
    "        Original dataframe and adds two columns:\n",
    "            anomaly_flag_fixed_std\n",
    "            anomaly_flag_moving_std\n",
    "    \"\"\"\n",
    "    # Calculate moving average\n",
    "    df['moving_average'] = df['Power.BatteryVoltHR'].rolling(window_size).mean()\n",
    "\n",
    "    # Calculate anomalies\n",
    "    df['residual'] = df['Power.BatteryVoltHR'] - df['moving_average']\n",
    "    df['moving_std'] = df['Power.BatteryVoltHR'].rolling(window_size).std()\n",
    "    df.dropna(inplace=True)\n",
    "    df['anomaly_flag_moving_std']=df.apply (lambda row: label_anomaly_moving_std(row, sigma), axis=1)\n",
    "    df['anomaly_flag_fixed_std']=df.apply (lambda row: label_anomaly_fixed_std(row, sigma, fixed_std), axis=1)\n",
    "    \n",
    "    return df"
   ]
  },
  {
   "cell_type": "markdown",
   "metadata": {},
   "source": [
    "## Visualization"
   ]
  },
  {
   "cell_type": "code",
   "execution_count": 13,
   "metadata": {},
   "outputs": [],
   "source": [
    "def plot_low_pass(df):\n",
    "    \"\"\"\n",
    "    This function creates a visualization of the raw data, the moving average and the detected anomalies.\n",
    "    \n",
    "    Args:\n",
    "        df: Dataframe containing the battery voltage and flags for anomalies as defined in low_pass_filtering()\n",
    "        \n",
    "    Returns:\n",
    "        Plot\n",
    "    \"\"\"\n",
    "    # Create traces\n",
    "    trace0 = go.Scatter(\n",
    "        x=df.index,\n",
    "        y=df['Power.BatteryVoltHR'],\n",
    "        mode='markers',\n",
    "        opacity=0.7,\n",
    "        marker={\n",
    "            'size': 6\n",
    "        },\n",
    "        name='Raw data'\n",
    "    )\n",
    "    trace1 = go.Scatter(\n",
    "        x=df.index,\n",
    "        y=df['moving_average'],\n",
    "        mode='lines',\n",
    "        name='Moving average'\n",
    "    )\n",
    "    trace2 = go.Scatter(\n",
    "        x=fixed_anomalies.index,\n",
    "        y=fixed_anomalies['Power.BatteryVoltHR'],\n",
    "        mode='markers',\n",
    "        marker={\n",
    "            'size': 10,\n",
    "            'symbol': 'x',\n",
    "            'color': 'red'\n",
    "        },\n",
    "        name='anomalies'   \n",
    "    )\n",
    "    \n",
    "    data = [trace0, trace1, trace2]\n",
    "    \n",
    "    layout = go.Layout(\n",
    "        xaxis={'title': 'Time'},\n",
    "        yaxis={'title': 'Battery voltage [V]',\n",
    "        'range': [0,17.5]},\n",
    "        margin={'l': 40, 'b': 40, 't': 10, 'r': 10},\n",
    "        legend={'x': 0, 'y': 0},\n",
    "        hovermode='closest',\n",
    "        width=800,\n",
    "        height=600\n",
    "    )\n",
    "\n",
    "    fig= go.Figure(data=data, layout=layout)\n",
    "    return fig"
   ]
  },
  {
   "cell_type": "markdown",
   "metadata": {},
   "source": [
    "# Low pass filtering"
   ]
  },
  {
   "cell_type": "code",
   "execution_count": 14,
   "metadata": {},
   "outputs": [],
   "source": [
    "# Set parameters\n",
    "window_size = 32\n",
    "sigma = 3\n",
    "fixed_std = 0.3"
   ]
  },
  {
   "cell_type": "code",
   "execution_count": 15,
   "metadata": {},
   "outputs": [
    {
     "data": {
      "text/html": [
       "<script type=\"text/javascript\">window.PlotlyConfig = {MathJaxConfig: 'local'};</script><script type=\"text/javascript\">if (window.MathJax) {MathJax.Hub.Config({SVG: {font: \"STIX-Web\"}});}</script><script>requirejs.config({paths: { 'plotly': ['https://cdn.plot.ly/plotly-latest.min']},});if(!window._Plotly) {require(['plotly'],function(plotly) {window._Plotly=plotly;});}</script>"
      ],
      "text/vnd.plotly.v1+html": [
       "<script type=\"text/javascript\">window.PlotlyConfig = {MathJaxConfig: 'local'};</script><script type=\"text/javascript\">if (window.MathJax) {MathJax.Hub.Config({SVG: {font: \"STIX-Web\"}});}</script><script>requirejs.config({paths: { 'plotly': ['https://cdn.plot.ly/plotly-latest.min']},});if(!window._Plotly) {require(['plotly'],function(plotly) {window._Plotly=plotly;});}</script>"
      ]
     },
     "metadata": {},
     "output_type": "display_data"
    }
   ],
   "source": [
    "init_notebook_mode(connected=True)"
   ]
  },
  {
   "cell_type": "markdown",
   "metadata": {},
   "source": [
    "## Anomalous batery pack"
   ]
  },
  {
   "cell_type": "markdown",
   "metadata": {},
   "source": [
    "### Apply function"
   ]
  },
  {
   "cell_type": "code",
   "execution_count": 32,
   "metadata": {},
   "outputs": [
    {
     "name": "stdout",
     "output_type": "stream",
     "text": [
      "window_size: 32 | fixed_std: 0.1 | Nr of anomalies: 4464\n",
      "window_size: 32 | fixed_std: 0.2 | Nr of anomalies: 2689\n",
      "window_size: 32 | fixed_std: 0.3 | Nr of anomalies: 1525\n",
      "window_size: 32 | fixed_std: 0.4 | Nr of anomalies: 1370\n",
      "window_size: 32 | fixed_std: 0.5 | Nr of anomalies: 1216\n",
      "window_size: 64 | fixed_std: 0.1 | Nr of anomalies: 7162\n",
      "window_size: 64 | fixed_std: 0.2 | Nr of anomalies: 5130\n",
      "window_size: 64 | fixed_std: 0.3 | Nr of anomalies: 4199\n",
      "window_size: 64 | fixed_std: 0.4 | Nr of anomalies: 3185\n",
      "window_size: 64 | fixed_std: 0.5 | Nr of anomalies: 2244\n",
      "window_size: 128 | fixed_std: 0.1 | Nr of anomalies: 13540\n",
      "window_size: 128 | fixed_std: 0.2 | Nr of anomalies: 8022\n",
      "window_size: 128 | fixed_std: 0.3 | Nr of anomalies: 6428\n",
      "window_size: 128 | fixed_std: 0.4 | Nr of anomalies: 5618\n",
      "window_size: 128 | fixed_std: 0.5 | Nr of anomalies: 4948\n",
      "window_size: 256 | fixed_std: 0.1 | Nr of anomalies: 17082\n",
      "window_size: 256 | fixed_std: 0.2 | Nr of anomalies: 14349\n",
      "window_size: 256 | fixed_std: 0.3 | Nr of anomalies: 10427\n",
      "window_size: 256 | fixed_std: 0.4 | Nr of anomalies: 9658\n",
      "window_size: 256 | fixed_std: 0.5 | Nr of anomalies: 8474\n",
      "window_size: 512 | fixed_std: 0.1 | Nr of anomalies: 19891\n",
      "window_size: 512 | fixed_std: 0.2 | Nr of anomalies: 18142\n",
      "window_size: 512 | fixed_std: 0.3 | Nr of anomalies: 16321\n",
      "window_size: 512 | fixed_std: 0.4 | Nr of anomalies: 15239\n",
      "window_size: 512 | fixed_std: 0.5 | Nr of anomalies: 14339\n",
      "window_size: 1024 | fixed_std: 0.1 | Nr of anomalies: 22432\n",
      "window_size: 1024 | fixed_std: 0.2 | Nr of anomalies: 21078\n",
      "window_size: 1024 | fixed_std: 0.3 | Nr of anomalies: 20043\n",
      "window_size: 1024 | fixed_std: 0.4 | Nr of anomalies: 19277\n",
      "window_size: 1024 | fixed_std: 0.5 | Nr of anomalies: 18369\n",
      "window_size: 2048 | fixed_std: 0.1 | Nr of anomalies: 24126\n",
      "window_size: 2048 | fixed_std: 0.2 | Nr of anomalies: 22296\n",
      "window_size: 2048 | fixed_std: 0.3 | Nr of anomalies: 21522\n",
      "window_size: 2048 | fixed_std: 0.4 | Nr of anomalies: 20862\n",
      "window_size: 2048 | fixed_std: 0.5 | Nr of anomalies: 20195\n"
     ]
    }
   ],
   "source": [
    "window_sizes = [32, 64, 128, 256, 512, 1024, 2048]\n",
    "fixed_stds = [0.1, 0.2, 0.3, 0.4, 0.5]\n",
    "for window_size in window_sizes:\n",
    "    for fixed_std in fixed_stds:\n",
    "        df = low_pass_filtering(battery_data_1.copy(), window_size, sigma, fixed_std)\n",
    "        moving_anomalies = df[df['anomaly_flag_moving_std']==1]\n",
    "        fixed_anomalies = df[df['anomaly_flag_fixed_std']==1]\n",
    "        fig = plot_low_pass(df)\n",
    "        pio.write_image(fig, r'C:\\Users\\Jeff\\Dropbox\\ICT-Elektronica\\Thesis\\scripts\\Case 1 - Smart Lighting' + '/images/fig1_{}_{}.png'.format(window_size, fixed_std))\n",
    "        print(\"window_size: \" + str(window_size) + \" | fixed_std: \" + str(fixed_std) + \" | Nr of anomalies: \" + str(len(fixed_anomalies)))"
   ]
  },
  {
   "cell_type": "code",
   "execution_count": 33,
   "metadata": {},
   "outputs": [
    {
     "name": "stdout",
     "output_type": "stream",
     "text": [
      "2018-11-07 09:30:00\n",
      "2018-11-07 09:30:00\n",
      "2018-11-07 09:30:00\n",
      "2018-11-07 09:25:00\n",
      "2018-11-06 08:30:00\n",
      "2018-11-06 06:30:00\n",
      "2018-11-06 05:35:00\n"
     ]
    }
   ],
   "source": [
    "for window_siz in window_sizes:\n",
    "    df = low_pass_filtering(battery_data_1.copy(), window_siz, sigma, fixed_std)\n",
    "    moving_anomalies = df[df['anomaly_flag_moving_std']==1]\n",
    "    fixed_anomalies = df[df['anomaly_flag_fixed_std']==1]\n",
    "    print(fixed_anomalies.first_valid_index())"
   ]
  },
  {
   "cell_type": "markdown",
   "metadata": {},
   "source": [
    "## Normal batery pack"
   ]
  },
  {
   "cell_type": "markdown",
   "metadata": {},
   "source": [
    "### Apply function"
   ]
  },
  {
   "cell_type": "code",
   "execution_count": 35,
   "metadata": {},
   "outputs": [
    {
     "name": "stdout",
     "output_type": "stream",
     "text": [
      "window_size: 32 | fixed_std: 0.1 | Nr of anomalies: 0\n",
      "window_size: 32 | fixed_std: 0.2 | Nr of anomalies: 0\n",
      "window_size: 32 | fixed_std: 0.3 | Nr of anomalies: 0\n",
      "window_size: 32 | fixed_std: 0.4 | Nr of anomalies: 0\n",
      "window_size: 32 | fixed_std: 0.5 | Nr of anomalies: 0\n",
      "window_size: 64 | fixed_std: 0.1 | Nr of anomalies: 27\n",
      "window_size: 64 | fixed_std: 0.2 | Nr of anomalies: 0\n",
      "window_size: 64 | fixed_std: 0.3 | Nr of anomalies: 0\n",
      "window_size: 64 | fixed_std: 0.4 | Nr of anomalies: 0\n",
      "window_size: 64 | fixed_std: 0.5 | Nr of anomalies: 0\n",
      "window_size: 128 | fixed_std: 0.1 | Nr of anomalies: 144\n",
      "window_size: 128 | fixed_std: 0.2 | Nr of anomalies: 0\n",
      "window_size: 128 | fixed_std: 0.3 | Nr of anomalies: 0\n",
      "window_size: 128 | fixed_std: 0.4 | Nr of anomalies: 0\n",
      "window_size: 128 | fixed_std: 0.5 | Nr of anomalies: 0\n",
      "window_size: 256 | fixed_std: 0.1 | Nr of anomalies: 273\n",
      "window_size: 256 | fixed_std: 0.2 | Nr of anomalies: 0\n",
      "window_size: 256 | fixed_std: 0.3 | Nr of anomalies: 0\n",
      "window_size: 256 | fixed_std: 0.4 | Nr of anomalies: 0\n",
      "window_size: 256 | fixed_std: 0.5 | Nr of anomalies: 0\n",
      "window_size: 512 | fixed_std: 0.1 | Nr of anomalies: 703\n",
      "window_size: 512 | fixed_std: 0.2 | Nr of anomalies: 108\n",
      "window_size: 512 | fixed_std: 0.3 | Nr of anomalies: 0\n",
      "window_size: 512 | fixed_std: 0.4 | Nr of anomalies: 0\n",
      "window_size: 512 | fixed_std: 0.5 | Nr of anomalies: 0\n",
      "window_size: 1024 | fixed_std: 0.1 | Nr of anomalies: 1418\n",
      "window_size: 1024 | fixed_std: 0.2 | Nr of anomalies: 655\n",
      "window_size: 1024 | fixed_std: 0.3 | Nr of anomalies: 92\n",
      "window_size: 1024 | fixed_std: 0.4 | Nr of anomalies: 0\n",
      "window_size: 1024 | fixed_std: 0.5 | Nr of anomalies: 0\n",
      "window_size: 2048 | fixed_std: 0.1 | Nr of anomalies: 3844\n",
      "window_size: 2048 | fixed_std: 0.2 | Nr of anomalies: 1242\n",
      "window_size: 2048 | fixed_std: 0.3 | Nr of anomalies: 695\n",
      "window_size: 2048 | fixed_std: 0.4 | Nr of anomalies: 152\n",
      "window_size: 2048 | fixed_std: 0.5 | Nr of anomalies: 0\n"
     ]
    }
   ],
   "source": [
    "window_sizes = [32, 64, 128, 256, 512, 1024, 2048]\n",
    "fixed_stds = [0.1, 0.2, 0.3, 0.4, 0.5]\n",
    "for window_size in window_sizes:\n",
    "    for fixed_std in fixed_stds:\n",
    "        df = low_pass_filtering(battery_data_2.copy(), window_size, sigma, fixed_std)\n",
    "        moving_anomalies = df[df['anomaly_flag_moving_std']==1]\n",
    "        fixed_anomalies = df[df['anomaly_flag_fixed_std']==1]\n",
    "        fig = plot_low_pass(df)\n",
    "        pio.write_image(fig, r'C:\\Users\\Jeff\\Dropbox\\ICT-Elektronica\\Thesis\\scripts\\Case 1 - Smart Lighting' + '/images/fig2_{}_{}.png'.format(window_size, fixed_std))\n",
    "        print(\"window_size: \" + str(window_size) + \" | fixed_std: \" + str(fixed_std) + \" | Nr of anomalies: \" + str(len(fixed_anomalies)))"
   ]
  },
  {
   "cell_type": "markdown",
   "metadata": {},
   "source": [
    "### Visualization"
   ]
  },
  {
   "cell_type": "code",
   "execution_count": 36,
   "metadata": {},
   "outputs": [
    {
     "name": "stdout",
     "output_type": "stream",
     "text": [
      "window_size: 32 | fixed_std: 0.1 | Nr of anomalies: 7\n",
      "window_size: 32 | fixed_std: 0.2 | Nr of anomalies: 0\n",
      "window_size: 32 | fixed_std: 0.3 | Nr of anomalies: 0\n",
      "window_size: 32 | fixed_std: 0.4 | Nr of anomalies: 0\n",
      "window_size: 32 | fixed_std: 0.5 | Nr of anomalies: 0\n",
      "window_size: 64 | fixed_std: 0.1 | Nr of anomalies: 22\n",
      "window_size: 64 | fixed_std: 0.2 | Nr of anomalies: 0\n",
      "window_size: 64 | fixed_std: 0.3 | Nr of anomalies: 0\n",
      "window_size: 64 | fixed_std: 0.4 | Nr of anomalies: 0\n",
      "window_size: 64 | fixed_std: 0.5 | Nr of anomalies: 0\n",
      "window_size: 128 | fixed_std: 0.1 | Nr of anomalies: 86\n",
      "window_size: 128 | fixed_std: 0.2 | Nr of anomalies: 0\n",
      "window_size: 128 | fixed_std: 0.3 | Nr of anomalies: 0\n",
      "window_size: 128 | fixed_std: 0.4 | Nr of anomalies: 0\n",
      "window_size: 128 | fixed_std: 0.5 | Nr of anomalies: 0\n",
      "window_size: 256 | fixed_std: 0.1 | Nr of anomalies: 138\n",
      "window_size: 256 | fixed_std: 0.2 | Nr of anomalies: 0\n",
      "window_size: 256 | fixed_std: 0.3 | Nr of anomalies: 0\n",
      "window_size: 256 | fixed_std: 0.4 | Nr of anomalies: 0\n",
      "window_size: 256 | fixed_std: 0.5 | Nr of anomalies: 0\n",
      "window_size: 512 | fixed_std: 0.1 | Nr of anomalies: 344\n",
      "window_size: 512 | fixed_std: 0.2 | Nr of anomalies: 0\n",
      "window_size: 512 | fixed_std: 0.3 | Nr of anomalies: 0\n",
      "window_size: 512 | fixed_std: 0.4 | Nr of anomalies: 0\n",
      "window_size: 512 | fixed_std: 0.5 | Nr of anomalies: 0\n",
      "window_size: 1024 | fixed_std: 0.1 | Nr of anomalies: 1547\n",
      "window_size: 1024 | fixed_std: 0.2 | Nr of anomalies: 0\n",
      "window_size: 1024 | fixed_std: 0.3 | Nr of anomalies: 0\n",
      "window_size: 1024 | fixed_std: 0.4 | Nr of anomalies: 0\n",
      "window_size: 1024 | fixed_std: 0.5 | Nr of anomalies: 0\n",
      "window_size: 2048 | fixed_std: 0.1 | Nr of anomalies: 4086\n",
      "window_size: 2048 | fixed_std: 0.2 | Nr of anomalies: 747\n",
      "window_size: 2048 | fixed_std: 0.3 | Nr of anomalies: 0\n",
      "window_size: 2048 | fixed_std: 0.4 | Nr of anomalies: 0\n",
      "window_size: 2048 | fixed_std: 0.5 | Nr of anomalies: 0\n"
     ]
    }
   ],
   "source": [
    "window_sizes = [32, 64, 128, 256, 512, 1024, 2048]\n",
    "fixed_stds = [0.1, 0.2, 0.3, 0.4, 0.5]\n",
    "for window_size in window_sizes:\n",
    "    for fixed_std in fixed_stds:\n",
    "        df = low_pass_filtering(battery_data_3.copy(), window_size, sigma, fixed_std)\n",
    "        moving_anomalies = df[df['anomaly_flag_moving_std']==1]\n",
    "        fixed_anomalies = df[df['anomaly_flag_fixed_std']==1]\n",
    "        fig = plot_low_pass(df)\n",
    "        pio.write_image(fig, r'C:\\Users\\Jeff\\Dropbox\\ICT-Elektronica\\Thesis\\scripts\\Case 1 - Smart Lighting' + '/images/fig3_{}_{}.png'.format(window_size, fixed_std))\n",
    "        print(\"window_size: \" + str(window_size) + \" | fixed_std: \" + str(fixed_std) + \" | Nr of anomalies: \" + str(len(fixed_anomalies)))"
   ]
  },
  {
   "cell_type": "code",
   "execution_count": 40,
   "metadata": {},
   "outputs": [],
   "source": [
    "fig = plot_low_pass(df)\n",
    "pio.write_image(fig, r'C:\\Users\\JeffG\\Dropbox\\ICT-Elektronica\\Thesis\\scripts\\Case 1 - Smart Lighting' + '/images/fig2.png')"
   ]
  }
 ],
 "metadata": {
  "kernelspec": {
   "display_name": "Python 3",
   "language": "python",
   "name": "python3"
  },
  "language_info": {
   "codemirror_mode": {
    "name": "ipython",
    "version": 3
   },
   "file_extension": ".py",
   "mimetype": "text/x-python",
   "name": "python",
   "nbconvert_exporter": "python",
   "pygments_lexer": "ipython3",
   "version": "3.7.1"
  }
 },
 "nbformat": 4,
 "nbformat_minor": 2
}
