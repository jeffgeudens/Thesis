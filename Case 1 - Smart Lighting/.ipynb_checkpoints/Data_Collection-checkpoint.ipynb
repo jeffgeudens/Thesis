{
 "cells": [
  {
   "cell_type": "markdown",
   "metadata": {},
   "source": [
    "# Introduction"
   ]
  },
  {
   "cell_type": "markdown",
   "metadata": {},
   "source": [
    "This script is used to gather the necessary data.\n",
    "Things to be fixed:\n",
    "* Token still needs to be refreshed by hand\n",
    "* Choose time range yourself by inserting the right parameters\n",
    "* Choose things you want to investigate\n",
    "* Choose metrics of interest"
   ]
  },
  {
   "cell_type": "markdown",
   "metadata": {},
   "source": [
    "# Initialization"
   ]
  },
  {
   "cell_type": "markdown",
   "metadata": {},
   "source": [
    "## Import libraries"
   ]
  },
  {
   "cell_type": "code",
   "execution_count": 1,
   "metadata": {},
   "outputs": [],
   "source": [
    "import pandas as pd\n",
    "import requests\n",
    "import numpy as np\n",
    "import matplotlib.pyplot as plt\n",
    "import matplotlib.dates as mdates\n",
    "import json\n",
    "from datetime import datetime\n",
    "from datetime import timedelta  \n",
    "import time\n",
    "import sys\n",
    "import plotly\n",
    "import plotly.plotly as py\n",
    "import plotly.graph_objs as go\n",
    "\n",
    "pd.options.mode.chained_assignment = None "
   ]
  },
  {
   "cell_type": "markdown",
   "metadata": {},
   "source": [
    "## Set up parameters"
   ]
  },
  {
   "cell_type": "code",
   "execution_count": 2,
   "metadata": {},
   "outputs": [],
   "source": [
    "##### Choose scope #####\n",
    "scopeID = 'cot.smart_lighting'"
   ]
  },
  {
   "cell_type": "code",
   "execution_count": 28,
   "metadata": {},
   "outputs": [],
   "source": [
    "##### Insert token and generate URL #####\n",
    "myToken = 'eyJhbGciOiJSUzI1NiIsInR5cCIgOiAiSldUIiwia2lkIiA6ICIwUnhaVzd0N1d5aEczaEo3cUhoM3hQa3MzbkthTUE5Zy04SnozY2trQ3EwIn0.eyJqdGkiOiJkYzlkMmRkNS00NzJmLTRkZTktOWEzZi0zYWNmZGM5OTk2ZTgiLCJleHAiOjE1NTIxNDk2ODUsIm5iZiI6MCwiaWF0IjoxNTUyMTQ5MDg1LCJpc3MiOiJodHRwczovL2lkbGFiLWlvdC50ZW5ndS5pby9hdXRoL3JlYWxtcy9pZGxhYi1pb3QiLCJhdWQiOiJwb2xpY3ktZW5mb3JjZXIiLCJzdWIiOiI3NGVjNTQzYi03Yjc1LTQ1ZGItOWExNy0xMDY5OTlmYmU3OWEiLCJ0eXAiOiJCZWFyZXIiLCJhenAiOiJzd2FnZ2VyLXVpIiwibm9uY2UiOiJhYzdhMzhiMC1mNjhkLTRjNTAtOWU0MC1jYjJhYWJlYTdhMjUiLCJhdXRoX3RpbWUiOjE1NTIxNDY4MzgsInNlc3Npb25fc3RhdGUiOiI1NTU3YTU1NC03ZmNlLTRiOWMtYTg3Zi1lNzY0YmZlOTU2NWYiLCJhY3IiOiIwIiwiYWxsb3dlZC1vcmlnaW5zIjpbImh0dHBzOi8vaWRsYWItaW90LnRlbmd1LmlvIiwiaHR0cDovL2xvY2FsaG9zdDo1NTU1Il0sInJlc291cmNlX2FjY2VzcyI6eyJwb2xpY3ktZW5mb3JjZXIiOnsicm9sZXMiOlsidXNlcjp2aWV3Il19fSwiYXV0aG9yaXphdGlvbiI6eyJwZXJtaXNzaW9ucyI6W3sicnNpZCI6IjQxOGFiMGYzLWE5NTQtNGEwMS04ZTdlLWFlZGQzN2VjZTcyMyIsInJzbmFtZSI6ImRhdGE6c2NvcGVkOnZpZXcifV19LCJzY29wZSI6Im9wZW5pZCBwcm9maWxlIGVtYWlsIGNvdC1zY29wZSIsImVtYWlsX3ZlcmlmaWVkIjpmYWxzZSwicmlnaHRzIjpbXSwibmFtZSI6IkplZmYgR2V1ZGVucyIsImdyb3VwcyI6WyIvYWxsLXVzZXJzIiwiL2NvdC90aGVzaXMiXSwicHJlZmVycmVkX3VzZXJuYW1lIjoiZ2V1ZGVucy5qZWZmQGdtYWlsLmNvbSIsImdpdmVuX25hbWUiOiJKZWZmIiwiZmFtaWx5X25hbWUiOiJHZXVkZW5zIiwiZW1haWwiOiJnZXVkZW5zLmplZmZAZ21haWwuY29tIiwicGljdHVyZSI6Imh0dHBzOi8vbGg1Lmdvb2dsZXVzZXJjb250ZW50LmNvbS8tRTYxVzBvTmFlOUkvQUFBQUFBQUFBQUkvQUFBQUFBQUFCd2MvUExDNy1mNTdnek0vcGhvdG8uanBnP3N6PTUwIn0.UJM_Ncf4jHh8VuKFb_-7IisLXHjXAvP3vRYvZpqXRZo_p2tPljvbfsI7e81HjoUqez8ocR6aZHIKyrm-0pTHGpZgqeCYR69JCg0c4Mv0j41--wnmUczWXyC3Krb-hm5bwgxo8tTym7c0RHm_uDg7amAKSJD0piM1GFZPHSP4IEwl1_lrqWVlbXU0Wkaygr0YLqBs4a-ime-KIxzfBSNkaMGP01bameJhHEOfwQmZzLU3TTCrUjDv4OuBxN5GyukahqMjXsbFgwKC70ZdSJJrnrOFELIp4WEfkhks-vQNmuNUHK7q70d3i_0r2myxapNRSTczB0_q1gDsyQCcuUm5Sw'"
   ]
  },
  {
   "cell_type": "code",
   "execution_count": 23,
   "metadata": {},
   "outputs": [],
   "source": [
    "##### Specify time range #####\n",
    "##### Adjust this time range to specify which period you want to query - Mostly I use periods of one month #####\n",
    "startDate = datetime(2019, 2, 1, 1, 0)\n",
    "endDate = datetime(2019, 3, 1, 1, 0)\n",
    "startTime = int(startDate.timestamp())*1000;  #print(startTime)\n",
    "endTime = int(endDate.timestamp())*1000;  #print(endTime)"
   ]
  },
  {
   "cell_type": "markdown",
   "metadata": {},
   "source": [
    "# Weather station"
   ]
  },
  {
   "cell_type": "code",
   "execution_count": 5,
   "metadata": {},
   "outputs": [],
   "source": [
    "thingID = 'davis.davis.weather.1'"
   ]
  },
  {
   "cell_type": "markdown",
   "metadata": {},
   "source": [
    "### Choose metrics"
   ]
  },
  {
   "cell_type": "code",
   "execution_count": 6,
   "metadata": {},
   "outputs": [],
   "source": [
    "#metricsList = ['environment.light','environment.temperature','weather.uv','environment.relativehumidity']\n",
    "metricsList = ['weather.pressure', 'weather.rainrate', 'weather.windspeed']"
   ]
  },
  {
   "cell_type": "markdown",
   "metadata": {},
   "source": [
    "### Run query"
   ]
  },
  {
   "cell_type": "code",
   "execution_count": 24,
   "metadata": {},
   "outputs": [
    {
     "name": "stdout",
     "output_type": "stream",
     "text": [
      "weather.pressure_2019-02\n",
      "weather.rainrate_2019-02\n",
      "weather.windspeed_2019-02\n"
     ]
    }
   ],
   "source": [
    "for i in range(0,len(metricsList)):\n",
    "    print(metricsList[i]+'_'+startDate.strftime('%Y-%m'))\n",
    "    metricID = metricsList[i]\n",
    "\n",
    "    myUrlQuery = 'https://idlab-iot.tengu.io/api/v1/scopes/{scope}/query/{metric}/events?from={start}&to={end}&things={thing}&orderByTime=asc'\\\n",
    "        .format(scope = scopeID, metric = metricID, start=startTime, end=endTime, thing=thingID)\n",
    "\n",
    "    headers = {\n",
    "        'accept': 'application/json',\n",
    "        'authorization': 'Bearer {0}'.format(myToken),\n",
    "    }\n",
    "\n",
    "    response = requests.get(myUrlQuery, headers=headers)\n",
    "    #print(response.content)\n",
    "    data = response.json() \n",
    "    column_names = data['columns']; #print(column_names)\n",
    "    values = data['values']\n",
    "    df = pd.DataFrame.from_dict(values)\n",
    "    df.columns = column_names\n",
    "    weather_data = df[['time','value']]\n",
    "#     print(weather_data)\n",
    "    path=r'C:\\Users\\JeffG\\Desktop\\Case 1 - data\\weather_data'\n",
    "    weather_data.to_csv(path+'\\\\'+metricsList[i]+'_'+startDate.strftime('%Y-%m')+'.csv')"
   ]
  },
  {
   "cell_type": "markdown",
   "metadata": {},
   "source": [
    "# Battery pack"
   ]
  },
  {
   "cell_type": "code",
   "execution_count": 30,
   "metadata": {},
   "outputs": [],
   "source": [
    "#thingID = 'munisense.msup1g30034' # west facing\n",
    "#thingID = 'munisense.msup1i70124' # south facing\n",
    "thingID = 'munisense.msup1h90115' # east facing"
   ]
  },
  {
   "cell_type": "markdown",
   "metadata": {},
   "source": [
    "### Choose metrics"
   ]
  },
  {
   "cell_type": "code",
   "execution_count": 31,
   "metadata": {},
   "outputs": [],
   "source": [
    "metricsList = ['Power.BatteryState','Power.BatteryVoltHR','Power.PercentageRemaining','Power.TimeRemaining']"
   ]
  },
  {
   "cell_type": "markdown",
   "metadata": {},
   "source": [
    "### Run query"
   ]
  },
  {
   "cell_type": "code",
   "execution_count": 32,
   "metadata": {},
   "outputs": [
    {
     "name": "stdout",
     "output_type": "stream",
     "text": [
      "Power.BatteryState_2019-02\n",
      "                time value\n",
      "0      1549008830188     5\n",
      "1      1549009010192     5\n",
      "2      1549009190146     5\n",
      "3      1549009370198     5\n",
      "4      1549009550156     5\n",
      "5      1549009730206     5\n",
      "6      1549009910161     5\n",
      "7      1549010090213     5\n",
      "8      1549010270219     5\n",
      "9      1549010450225     5\n",
      "10     1549010630170     5\n",
      "11     1549010810225     5\n",
      "12     1549010990175     5\n",
      "13     1549011170235     5\n",
      "14     1549011350188     5\n",
      "15     1549011530359     5\n",
      "16     1549011710189     5\n",
      "17     1549011890180     5\n",
      "18     1549012070191     5\n",
      "19     1549012250275     5\n",
      "20     1549012430201     5\n",
      "21     1549012610254     5\n",
      "22     1549012790214     5\n",
      "23     1549012970257     5\n",
      "24     1549013150218     5\n",
      "25     1549013330262     5\n",
      "26     1549013510212     5\n",
      "27     1549013690267     0\n",
      "28     1549013870226     0\n",
      "29     1549014050275     0\n",
      "...              ...   ...\n",
      "10990  1551392984835     0\n",
      "10991  1551393164798     0\n",
      "10992  1551393344841     0\n",
      "10993  1551393524806     0\n",
      "10994  1551393704822     0\n",
      "10995  1551393884798     0\n",
      "10996  1551394064885     0\n",
      "10997  1551394244884     0\n",
      "10998  1551394424822     0\n",
      "10999  1551394604801     0\n",
      "11000  1551394964801     0\n",
      "11001  1551395144834     0\n",
      "11002  1551395324803     0\n",
      "11003  1551395504829     0\n",
      "11004  1551395684805     0\n",
      "11005  1551395864829     0\n",
      "11006  1551396044811     0\n",
      "11007  1551396224831     0\n",
      "11008  1551396404810     0\n",
      "11009  1551396584834     0\n",
      "11010  1551396764809     0\n",
      "11011  1551396944858     0\n",
      "11012  1551397124812     0\n",
      "11013  1551397304837     0\n",
      "11014  1551397484815     0\n",
      "11015  1551397664837     0\n",
      "11016  1551397844820     0\n",
      "11017  1551398024843     0\n",
      "11018  1551398204829     0\n",
      "11019  1551398384841     0\n",
      "\n",
      "[11020 rows x 2 columns]\n",
      "Power.BatteryVoltHR_2019-02\n",
      "                time  value\n",
      "0      1549008830188  13.66\n",
      "1      1549009010192  13.66\n",
      "2      1549009190146  13.66\n",
      "3      1549009370198  13.66\n",
      "4      1549009550156  13.66\n",
      "5      1549009730206  13.66\n",
      "6      1549009910161  13.66\n",
      "7      1549010090213  13.66\n",
      "8      1549010270219  13.66\n",
      "9      1549010450225  13.66\n",
      "10     1549010630170  13.66\n",
      "11     1549010810225  13.66\n",
      "12     1549010990175  13.66\n",
      "13     1549011170235  13.68\n",
      "14     1549011350188  13.68\n",
      "15     1549011530359  13.69\n",
      "16     1549011710189  13.68\n",
      "17     1549011890180  13.67\n",
      "18     1549012070191  13.67\n",
      "19     1549012250275  13.67\n",
      "20     1549012430201  13.68\n",
      "21     1549012610254  13.68\n",
      "22     1549012790214  13.68\n",
      "23     1549012970257  13.71\n",
      "24     1549013150218  13.70\n",
      "25     1549013330262  13.74\n",
      "26     1549013510212  13.78\n",
      "27     1549013690267  13.86\n",
      "28     1549013870226  13.78\n",
      "29     1549014050275  13.78\n",
      "...              ...    ...\n",
      "10990  1551392984835  15.00\n",
      "10991  1551393164798  15.00\n",
      "10992  1551393344841  15.00\n",
      "10993  1551393524806  15.00\n",
      "10994  1551393704822  14.99\n",
      "10995  1551393884798  15.00\n",
      "10996  1551394064885  15.00\n",
      "10997  1551394244884  15.00\n",
      "10998  1551394424822  15.00\n",
      "10999  1551394604801  15.00\n",
      "11000  1551394964801  15.00\n",
      "11001  1551395144834  14.99\n",
      "11002  1551395324803  14.99\n",
      "11003  1551395504829  15.00\n",
      "11004  1551395684805  14.99\n",
      "11005  1551395864829  14.99\n",
      "11006  1551396044811  15.00\n",
      "11007  1551396224831  14.99\n",
      "11008  1551396404810  14.99\n",
      "11009  1551396584834  14.99\n",
      "11010  1551396764809  14.99\n",
      "11011  1551396944858  14.99\n",
      "11012  1551397124812  14.99\n",
      "11013  1551397304837  14.99\n",
      "11014  1551397484815  14.99\n",
      "11015  1551397664837  14.99\n",
      "11016  1551397844820  14.99\n",
      "11017  1551398024843  14.99\n",
      "11018  1551398204829  14.99\n",
      "11019  1551398384841  14.99\n",
      "\n",
      "[11020 rows x 2 columns]\n",
      "Power.PercentageRemaining_2019-02\n",
      "                time value\n",
      "0      1549008830188     0\n",
      "1      1549009010192     0\n",
      "2      1549009190146     0\n",
      "3      1549009370198     0\n",
      "4      1549009550156     0\n",
      "5      1549009730206     0\n",
      "6      1549009910161     0\n",
      "7      1549010090213     0\n",
      "8      1549010270219     0\n",
      "9      1549010450225     0\n",
      "10     1549010630170     0\n",
      "11     1549010810225     0\n",
      "12     1549010990175     0\n",
      "13     1549011170235     0\n",
      "14     1549011350188     0\n",
      "15     1549011530359     0\n",
      "16     1549011710189     0\n",
      "17     1549011890180     0\n",
      "18     1549012070191     0\n",
      "19     1549012250275     0\n",
      "20     1549012430201     0\n",
      "21     1549012610254     0\n",
      "22     1549012790214     0\n",
      "23     1549012970257     0\n",
      "24     1549013150218     0\n",
      "25     1549013330262     0\n",
      "26     1549013510212     0\n",
      "27     1549013690267     0\n",
      "28     1549013870226     0\n",
      "29     1549014050275     0\n",
      "...              ...   ...\n",
      "10990  1551392984835    47\n",
      "10991  1551393164798    47\n",
      "10992  1551393344841    47\n",
      "10993  1551393524806    47\n",
      "10994  1551393704822    47\n",
      "10995  1551393884798    47\n",
      "10996  1551394064885    47\n",
      "10997  1551394244884    47\n",
      "10998  1551394424822    47\n",
      "10999  1551394604801    47\n",
      "11000  1551394964801    47\n",
      "11001  1551395144834    47\n",
      "11002  1551395324803    47\n",
      "11003  1551395504829    47\n",
      "11004  1551395684805    47\n",
      "11005  1551395864829    47\n",
      "11006  1551396044811    47\n",
      "11007  1551396224831    47\n",
      "11008  1551396404810    47\n",
      "11009  1551396584834    47\n",
      "11010  1551396764809    47\n",
      "11011  1551396944858    47\n",
      "11012  1551397124812    47\n",
      "11013  1551397304837    47\n",
      "11014  1551397484815    47\n",
      "11015  1551397664837    47\n",
      "11016  1551397844820    47\n",
      "11017  1551398024843    47\n",
      "11018  1551398204829    47\n",
      "11019  1551398384841    47\n",
      "\n",
      "[11020 rows x 2 columns]\n",
      "Power.TimeRemaining_2019-02\n",
      "                time  value\n",
      "0      1549008830188      0\n",
      "1      1549009010192      0\n",
      "2      1549009190146      0\n",
      "3      1549009370198      0\n",
      "4      1549009550156      0\n",
      "5      1549009730206      0\n",
      "6      1549009910161      0\n",
      "7      1549010090213      0\n",
      "8      1549010270219      0\n",
      "9      1549010450225      0\n",
      "10     1549010630170      0\n",
      "11     1549010810225      0\n",
      "12     1549010990175      0\n",
      "13     1549011170235      0\n",
      "14     1549011350188      0\n",
      "15     1549011530359      0\n",
      "16     1549011710189      0\n",
      "17     1549011890180      0\n",
      "18     1549012070191      0\n",
      "19     1549012250275      0\n",
      "20     1549012430201      0\n",
      "21     1549012610254      0\n",
      "22     1549012790214      0\n",
      "23     1549012970257      0\n",
      "24     1549013150218      0\n",
      "25     1549013330262      0\n",
      "26     1549013510212      0\n",
      "27     1549013690267      0\n",
      "28     1549013870226      0\n",
      "29     1549014050275      0\n",
      "...              ...    ...\n",
      "10990  1551392984835  27607\n",
      "10991  1551393164798  27607\n",
      "10992  1551393344841  27607\n",
      "10993  1551393524806  27607\n",
      "10994  1551393704822  27607\n",
      "10995  1551393884798  27607\n",
      "10996  1551394064885  27607\n",
      "10997  1551394244884  27607\n",
      "10998  1551394424822  27607\n",
      "10999  1551394604801  27607\n",
      "11000  1551394964801  27607\n",
      "11001  1551395144834  27607\n",
      "11002  1551395324803  27607\n",
      "11003  1551395504829  27607\n",
      "11004  1551395684805  27607\n",
      "11005  1551395864829  27607\n",
      "11006  1551396044811  27607\n",
      "11007  1551396224831  27607\n",
      "11008  1551396404810  27607\n",
      "11009  1551396584834  27607\n",
      "11010  1551396764809  27607\n",
      "11011  1551396944858  27607\n",
      "11012  1551397124812  27202\n",
      "11013  1551397304837  27202\n",
      "11014  1551397484815  27202\n",
      "11015  1551397664837  27202\n",
      "11016  1551397844820  27202\n",
      "11017  1551398024843  27202\n",
      "11018  1551398204829  27202\n",
      "11019  1551398384841  27202\n",
      "\n",
      "[11020 rows x 2 columns]\n"
     ]
    }
   ],
   "source": [
    "for i in range(0,len(metricsList)):\n",
    "    print(metricsList[i]+'_'+startDate.strftime('%Y-%m'))\n",
    "    metricID = metricsList[i]\n",
    "\n",
    "    myUrlQuery = 'https://idlab-iot.tengu.io/api/v1/scopes/{scope}/query/{metric}/events?from={start}&to={end}&things={thing}&orderByTime=asc'\\\n",
    "        .format(scope = scopeID, metric = metricID, start=startTime, end=endTime, thing=thingID)\n",
    "\n",
    "    headers = {\n",
    "        'accept': 'application/json',\n",
    "        'authorization': 'Bearer {0}'.format(myToken),\n",
    "    }\n",
    "\n",
    "    response = requests.get(myUrlQuery, headers=headers)\n",
    "    response.content\n",
    "    data = response.json(); #print(data)\n",
    "    column_names = data['columns']; #print(column_names)\n",
    "    values = data['values']\n",
    "    df = pd.DataFrame.from_dict(values)\n",
    "    df.columns = column_names\n",
    "    battery_data = df[['time','value']]\n",
    "    print(battery_data)\n",
    "    #path=r'C:\\Users\\Jeff\\Dropbox\\ICT-Elektronica\\Thesis\\scripts\\battery_data_3' #vaste pc\n",
    "    path=r'C:\\Users\\JeffG\\Desktop\\Case 1 - data\\battery_data_2' #Laptop\n",
    "    battery_data.to_csv(path+'\\\\'+metricsList[i]+'_'+startDate.strftime('%Y-%m')+'.csv')"
   ]
  },
  {
   "cell_type": "code",
   "execution_count": null,
   "metadata": {},
   "outputs": [],
   "source": []
  }
 ],
 "metadata": {
  "kernelspec": {
   "display_name": "Python 3",
   "language": "python",
   "name": "python3"
  },
  "language_info": {
   "codemirror_mode": {
    "name": "ipython",
    "version": 3
   },
   "file_extension": ".py",
   "mimetype": "text/x-python",
   "name": "python",
   "nbconvert_exporter": "python",
   "pygments_lexer": "ipython3",
   "version": "3.6.4"
  }
 },
 "nbformat": 4,
 "nbformat_minor": 2
}
