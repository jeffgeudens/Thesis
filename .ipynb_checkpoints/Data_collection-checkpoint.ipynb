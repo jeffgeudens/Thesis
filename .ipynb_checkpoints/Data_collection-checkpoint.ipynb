{
 "cells": [
  {
   "cell_type": "markdown",
   "metadata": {},
   "source": [
    "# Introduction"
   ]
  },
  {
   "cell_type": "markdown",
   "metadata": {},
   "source": [
    "This script is used to gather the necessary data.\n",
    "Things to be fixed:\n",
    "* Token still needs to be refreshed by hand\n",
    "* Choose time range yourself by inserting the right parameters\n",
    "* Choose things you want to investigate\n",
    "* Choose metrics of interest"
   ]
  },
  {
   "cell_type": "markdown",
   "metadata": {},
   "source": [
    "# Initialization"
   ]
  },
  {
   "cell_type": "markdown",
   "metadata": {},
   "source": [
    "## Import libraries"
   ]
  },
  {
   "cell_type": "code",
   "execution_count": 1,
   "metadata": {},
   "outputs": [],
   "source": [
    "import pandas as pd\n",
    "import requests\n",
    "import numpy as np\n",
    "import matplotlib.pyplot as plt\n",
    "import matplotlib.dates as mdates\n",
    "import json\n",
    "from datetime import datetime\n",
    "from datetime import timedelta  \n",
    "import time\n",
    "import sys\n",
    "import plotly\n",
    "import plotly.plotly as py\n",
    "import plotly.graph_objs as go\n",
    "\n",
    "pd.options.mode.chained_assignment = None "
   ]
  },
  {
   "cell_type": "markdown",
   "metadata": {},
   "source": [
    "## Set up parameters"
   ]
  },
  {
   "cell_type": "code",
   "execution_count": 2,
   "metadata": {},
   "outputs": [],
   "source": [
    "##### Choose scope #####\n",
    "scopeID = 'cot.smart_lighting'"
   ]
  },
  {
   "cell_type": "code",
   "execution_count": 17,
   "metadata": {},
   "outputs": [],
   "source": [
    "##### Insert token and generate URL #####\n",
    "myToken = 'eyJhbGciOiJSUzI1NiIsInR5cCIgOiAiSldUIiwia2lkIiA6ICJyNGFKWWhESXhPdElaY3hILVpYeTh5MFBib1p4akljUUhvLUJWYUtTQjVVIn0.eyJqdGkiOiI0OTQ1OWIyMC00YzcxLTQ2YjMtOTU2NS01MzUwODY4ZDdmODciLCJleHAiOjE1NDQ0MzYxMTQsIm5iZiI6MCwiaWF0IjoxNTQ0NDM1ODE0LCJpc3MiOiJodHRwczovL2lkbGFiLWlvdC50ZW5ndS5pby9hdXRoL3JlYWxtcy9pZGxhYi1pb3QiLCJhdWQiOiJwb2xpY3ktZW5mb3JjZXIiLCJzdWIiOiIzZDA3YmQzZi0zMjRlLTQ5ZDEtYTVmNS0xZGI5NWQwODllNDUiLCJ0eXAiOiJCZWFyZXIiLCJhenAiOiJzd2FnZ2VyLXVpIiwibm9uY2UiOiJlOGFkN2MxMy0zMjIyLTQ0NGUtOTNmZi1jOGVmOWEyYjI2NTkiLCJhdXRoX3RpbWUiOjE1NDQ0MzU4MTIsInNlc3Npb25fc3RhdGUiOiJjNzZhYjkxYi1kMmNlLTQxNzktYjlmMy05MGNkNjU1MzA1NWMiLCJhY3IiOiIxIiwiYWxsb3dlZC1vcmlnaW5zIjpbImh0dHBzOi8vaWRsYWItaW90LnRlbmd1LmlvIiwiaHR0cDovL2xvY2FsaG9zdDo1NTU1Il0sInJlc291cmNlX2FjY2VzcyI6eyJwb2xpY3ktZW5mb3JjZXIiOnsicm9sZXMiOlsidXNlcjp2aWV3Il19fSwiYXV0aG9yaXphdGlvbiI6eyJwZXJtaXNzaW9ucyI6W3sicnNpZCI6IjQxOGFiMGYzLWE5NTQtNGEwMS04ZTdlLWFlZGQzN2VjZTcyMyIsInJzbmFtZSI6ImRhdGE6c2NvcGVkOnZpZXcifV19LCJzY29wZSI6Im9wZW5pZCBwcm9maWxlIGNvdC1zY29wZSBlbWFpbCIsImVtYWlsX3ZlcmlmaWVkIjpmYWxzZSwicmlnaHRzIjpbXSwibmFtZSI6IkplZmYgR2V1ZGVucyIsImdyb3VwcyI6WyIvYWxsLXVzZXJzIiwiL2NvdC90aGVzaXMiXSwicHJlZmVycmVkX3VzZXJuYW1lIjoiZ2V1ZGVucy5qZWZmQGdtYWlsLmNvbSIsImdpdmVuX25hbWUiOiJKZWZmIiwiZmFtaWx5X25hbWUiOiJHZXVkZW5zIiwiZW1haWwiOiJnZXVkZW5zLmplZmZAZ21haWwuY29tIiwicGljdHVyZSI6Imh0dHBzOi8vbGg1Lmdvb2dsZXVzZXJjb250ZW50LmNvbS8tRTYxVzBvTmFlOUkvQUFBQUFBQUFBQUkvQUFBQUFBQUFCd2MvUExDNy1mNTdnek0vcGhvdG8uanBnP3N6PTUwIn0.WImpcHcKGr7OVTqxqnYlmlXlq4IXdH2qcudepAQ6NGZnFgeri9fl4-ImALOqEx_rrIYIKp3AcvA6X3TMFUJu-LL1K0m4u9_YFtqO_EUTu8kH_GIKFfhGAT072P6yW5ri9PvjTgyXSFC6gF5LCItyARDVkJEMF7ZuULS_Z-VkuvNGUhE22bmuF9wXsZ_Vl1gAw_OjhIVtoTFW0ksj4JOo22VU-9G_94JMWuoCmhKtSHq5L1ow6jJ782fvz9p8i8d8gv5JuDUGPdcY1UTliyWsLCE-MaKPb6IanVzhN3FlZJKlipED21P588A9W4nDL-m8jSCCJ_NLp3Re5J1jdLljdg'"
   ]
  },
  {
   "cell_type": "code",
   "execution_count": 26,
   "metadata": {},
   "outputs": [],
   "source": [
    "##### Specify time range #####\n",
    "##### Adjust this time range to specify which period you want to query - Mostly I use periods of one month #####\n",
    "startDate = datetime(2018, 8, 1, 1, 0)\n",
    "endDate = datetime(2018, 9, 1, 1, 0)\n",
    "startTime = int(startDate.timestamp())*1000;  #print(startTime)\n",
    "endTime = int(endDate.timestamp())*1000;  #print(endTime)"
   ]
  },
  {
   "cell_type": "markdown",
   "metadata": {},
   "source": [
    "# Weather station"
   ]
  },
  {
   "cell_type": "code",
   "execution_count": 59,
   "metadata": {},
   "outputs": [],
   "source": [
    "thingID = 'davis.davis.weather.1'"
   ]
  },
  {
   "cell_type": "markdown",
   "metadata": {},
   "source": [
    "### Choose metrics"
   ]
  },
  {
   "cell_type": "code",
   "execution_count": 60,
   "metadata": {},
   "outputs": [],
   "source": [
    "metricsList = ['environment.light','environment.temperature','weather.uv','environment.relativehumidity']"
   ]
  },
  {
   "cell_type": "markdown",
   "metadata": {},
   "source": [
    "### Run query"
   ]
  },
  {
   "cell_type": "code",
   "execution_count": 62,
   "metadata": {},
   "outputs": [
    {
     "name": "stdout",
     "output_type": "stream",
     "text": [
      "environment.light2018-08\n",
      "environment.temperature2018-08\n",
      "weather.uv2018-08\n",
      "environment.relativehumidity2018-08\n"
     ]
    }
   ],
   "source": [
    "for i in range(0,len(metricsList)):\n",
    "    print(metricsList[i]+'_'+startDate.strftime('%Y-%m'))\n",
    "    metricID = metricsList[i]\n",
    "\n",
    "    myUrlQuery = 'https://idlab-iot.tengu.io/api/v1/scopes/{scope}/query/{metric}/events?from={start}&to={end}&things={thing}&orderByTime=asc'\\\n",
    "        .format(scope = scopeID, metric = metricID, start=startTime, end=endTime, thing=thingID)\n",
    "\n",
    "    headers = {\n",
    "        'accept': 'application/json',\n",
    "        'authorization': 'Bearer {0}'.format(myToken),\n",
    "    }\n",
    "\n",
    "    response = requests.get(myUrlQuery, headers=headers)\n",
    "    response.content\n",
    "    data = response.json() \n",
    "    column_names = data['columns']; #print(column_names)\n",
    "    values = data['values']\n",
    "    df = pd.DataFrame.from_dict(values)\n",
    "    df.columns = column_names\n",
    "    weather_data = df[['time','value']]\n",
    "#     print(weather_data)\n",
    "    path=r'C:\\Users\\Jeff\\Dropbox\\ICT-Elektronica\\Thesis\\scripts\\weather_data'\n",
    "    weather_data.to_csv(path+'\\\\'+metricsList[i]+'_'+startDate.strftime('%Y-%m')+'.csv')"
   ]
  },
  {
   "cell_type": "markdown",
   "metadata": {},
   "source": [
    "# Battery pack"
   ]
  },
  {
   "cell_type": "code",
   "execution_count": 19,
   "metadata": {},
   "outputs": [],
   "source": [
    "thingID = 'munisense.msup1h90115'"
   ]
  },
  {
   "cell_type": "markdown",
   "metadata": {},
   "source": [
    "### Choose metrics"
   ]
  },
  {
   "cell_type": "code",
   "execution_count": 20,
   "metadata": {},
   "outputs": [],
   "source": [
    "metricsList = ['Power.BatteryState','Power.BatteryVoltHR','Power.PercentageRemaining','Power.TimeRemaining']"
   ]
  },
  {
   "cell_type": "markdown",
   "metadata": {},
   "source": [
    "### Run query"
   ]
  },
  {
   "cell_type": "code",
   "execution_count": 27,
   "metadata": {},
   "outputs": [
    {
     "name": "stdout",
     "output_type": "stream",
     "text": [
      "Power.BatteryState_2018-08\n",
      "              time value\n",
      "0    1535708758890     0\n",
      "1    1535708938839     0\n",
      "2    1535709118816     0\n",
      "3    1535709298825     0\n",
      "4    1535709478809     0\n",
      "5    1535709658822     0\n",
      "6    1535709838842     0\n",
      "7    1535710018901     0\n",
      "8    1535710198816     0\n",
      "9    1535710378813     0\n",
      "10   1535710558818     0\n",
      "11   1535710738809     0\n",
      "12   1535710918811     0\n",
      "13   1535711098806     0\n",
      "14   1535711278859     0\n",
      "15   1535711458805     0\n",
      "16   1535711638802     0\n",
      "17   1535711818880     0\n",
      "18   1535711998839     0\n",
      "19   1535712178801     0\n",
      "20   1535712358808     0\n",
      "21   1535712538826     0\n",
      "22   1535712718808     6\n",
      "23   1535712898802     6\n",
      "24   1535713078823     6\n",
      "25   1535713258793     6\n",
      "26   1535713438849     0\n",
      "27   1535713618835     0\n",
      "28   1535713798822     0\n",
      "29   1535713978801     0\n",
      "..             ...   ...\n",
      "234  1535751058617     0\n",
      "235  1535751238609     0\n",
      "236  1535751418611     0\n",
      "237  1535751598605     0\n",
      "238  1535751778605     0\n",
      "239  1535751958611     0\n",
      "240  1535752138604     0\n",
      "241  1535752318605     0\n",
      "242  1535752498604     0\n",
      "243  1535752678601     0\n",
      "244  1535752858667     0\n",
      "245  1535753038604     0\n",
      "246  1535753218625     0\n",
      "247  1535753398605     0\n",
      "248  1535753578599     0\n",
      "249  1535753758663     0\n",
      "250  1535753938605     0\n",
      "251  1535754118608     0\n",
      "252  1535754298599     0\n",
      "253  1535754478598     0\n",
      "254  1535754658598     0\n",
      "255  1535754838618     0\n",
      "256  1535755018601     0\n",
      "257  1535755198596     0\n",
      "258  1535755378660     0\n",
      "259  1535755558664     0\n",
      "260  1535755738599     0\n",
      "261  1535755918599     0\n",
      "262  1535756098595     0\n",
      "263  1535756278595     0\n",
      "\n",
      "[264 rows x 2 columns]\n",
      "Power.BatteryVoltHR_2018-08\n",
      "              time  value\n",
      "0    1535708938839  16.06\n",
      "1    1535709118816  16.06\n",
      "2    1535709298825  16.06\n",
      "3    1535709478809  16.06\n",
      "4    1535709658822  16.06\n",
      "5    1535709838842  16.06\n",
      "6    1535710018901  16.06\n",
      "7    1535710198816  16.06\n",
      "8    1535710378813  16.06\n",
      "9    1535710558818  16.06\n",
      "10   1535710738809  16.06\n",
      "11   1535710918811  16.06\n",
      "12   1535711098806  16.06\n",
      "13   1535711278859  16.06\n",
      "14   1535711458805  16.06\n",
      "15   1535711638802  16.06\n",
      "16   1535711818880  16.06\n",
      "17   1535711998839  16.06\n",
      "18   1535712178801  16.06\n",
      "19   1535712358808  16.06\n",
      "20   1535712538826  16.06\n",
      "21   1535712718808  16.06\n",
      "22   1535712898802  16.06\n",
      "23   1535713078823  16.06\n",
      "24   1535713258793  16.06\n",
      "25   1535713438849  16.06\n",
      "26   1535713618835  16.06\n",
      "27   1535713798822  16.06\n",
      "28   1535713978801  16.06\n",
      "29   1535714158790  16.06\n",
      "..             ...    ...\n",
      "233  1535751058617  16.04\n",
      "234  1535751238609  16.04\n",
      "235  1535751418611  16.04\n",
      "236  1535751598605  16.04\n",
      "237  1535751778605  16.03\n",
      "238  1535751958611  16.04\n",
      "239  1535752138604  16.04\n",
      "240  1535752318605  16.04\n",
      "241  1535752498604  16.03\n",
      "242  1535752678601  16.04\n",
      "243  1535752858667  16.03\n",
      "244  1535753038604  16.03\n",
      "245  1535753218625  16.04\n",
      "246  1535753398605  16.03\n",
      "247  1535753578599  16.03\n",
      "248  1535753758663  16.04\n",
      "249  1535753938605  16.04\n",
      "250  1535754118608  16.03\n",
      "251  1535754298599  16.03\n",
      "252  1535754478598  16.03\n",
      "253  1535754658598  16.03\n",
      "254  1535754838618  16.03\n",
      "255  1535755018601  16.03\n",
      "256  1535755198596  16.03\n",
      "257  1535755378660  16.03\n",
      "258  1535755558664  16.03\n",
      "259  1535755738599  16.03\n",
      "260  1535755918599  16.03\n",
      "261  1535756098595  16.03\n",
      "262  1535756278595  16.03\n",
      "\n",
      "[263 rows x 2 columns]\n",
      "Power.PercentageRemaining_2018-08\n",
      "              time value\n",
      "0    1535708758890    87\n",
      "1    1535708938839    87\n",
      "2    1535709118816    87\n",
      "3    1535709298825    87\n",
      "4    1535709478809    87\n",
      "5    1535709658822    87\n",
      "6    1535709838842    87\n",
      "7    1535710018901    87\n",
      "8    1535710198816    87\n",
      "9    1535710378813    87\n",
      "10   1535710558818    87\n",
      "11   1535710738809    87\n",
      "12   1535710918811    87\n",
      "13   1535711098806    87\n",
      "14   1535711278859    87\n",
      "15   1535711458805    87\n",
      "16   1535711638802    87\n",
      "17   1535711818880    87\n",
      "18   1535711998839    87\n",
      "19   1535712178801    87\n",
      "20   1535712358808    87\n",
      "21   1535712538826    87\n",
      "22   1535712718808    87\n",
      "23   1535712898802    87\n",
      "24   1535713078823    87\n",
      "25   1535713258793    87\n",
      "26   1535713438849    87\n",
      "27   1535713618835    87\n",
      "28   1535713798822    87\n",
      "29   1535713978801    87\n",
      "..             ...   ...\n",
      "234  1535751058617    87\n",
      "235  1535751238609    87\n",
      "236  1535751418611    87\n",
      "237  1535751598605    87\n",
      "238  1535751778605    87\n",
      "239  1535751958611    87\n",
      "240  1535752138604    87\n",
      "241  1535752318605    87\n",
      "242  1535752498604    87\n",
      "243  1535752678601    87\n",
      "244  1535752858667    87\n",
      "245  1535753038604    87\n",
      "246  1535753218625    87\n",
      "247  1535753398605    87\n",
      "248  1535753578599    87\n",
      "249  1535753758663    87\n",
      "250  1535753938605    87\n",
      "251  1535754118608    87\n",
      "252  1535754298599    87\n",
      "253  1535754478598    87\n",
      "254  1535754658598    87\n",
      "255  1535754838618    87\n",
      "256  1535755018601    87\n",
      "257  1535755198596    87\n",
      "258  1535755378660    87\n",
      "259  1535755558664    87\n",
      "260  1535755738599    87\n",
      "261  1535755918599    86\n",
      "262  1535756098595    86\n",
      "263  1535756278595    86\n",
      "\n",
      "[264 rows x 2 columns]\n",
      "Power.TimeRemaining_2018-08\n",
      "              time  value\n",
      "0    1535708938839  50895\n",
      "1    1535709118816  50895\n",
      "2    1535709298825  50895\n",
      "3    1535709478809  50895\n",
      "4    1535709658822  50895\n",
      "5    1535709838842  50895\n",
      "6    1535710018901  50895\n",
      "7    1535710198816  50895\n",
      "8    1535710378813  50895\n",
      "9    1535710558818  50895\n",
      "10   1535710738809  50895\n",
      "11   1535710918811  50895\n",
      "12   1535711098806  50895\n",
      "13   1535711278859  50895\n",
      "14   1535711458805  50895\n",
      "15   1535711638802  50895\n",
      "16   1535711818880  50895\n",
      "17   1535711998839  50895\n",
      "18   1535712178801  50895\n",
      "19   1535712358808  50895\n",
      "20   1535712538826  50895\n",
      "21   1535712718808  50827\n",
      "22   1535712898802  50827\n",
      "23   1535713078823  50827\n",
      "24   1535713258793  50827\n",
      "25   1535713438849  50827\n",
      "26   1535713618835  50827\n",
      "27   1535713798822  50827\n",
      "28   1535713978801  50827\n",
      "29   1535714158790  50827\n",
      "..             ...    ...\n",
      "233  1535751058617  50715\n",
      "234  1535751238609  50715\n",
      "235  1535751418611  50715\n",
      "236  1535751598605  50715\n",
      "237  1535751778605  50715\n",
      "238  1535751958611  50715\n",
      "239  1535752138604  50715\n",
      "240  1535752318605  50715\n",
      "241  1535752498604  50715\n",
      "242  1535752678601  50715\n",
      "243  1535752858667  50715\n",
      "244  1535753038604  50715\n",
      "245  1535753218625  50715\n",
      "246  1535753398605  50715\n",
      "247  1535753578599  50715\n",
      "248  1535753758663  50715\n",
      "249  1535753938605  50715\n",
      "250  1535754118608  50715\n",
      "251  1535754298599  50715\n",
      "252  1535754478598  50715\n",
      "253  1535754658598  50715\n",
      "254  1535754838618  50715\n",
      "255  1535755018601  50715\n",
      "256  1535755198596  50715\n",
      "257  1535755378660  50715\n",
      "258  1535755558664  50715\n",
      "259  1535755738599  50715\n",
      "260  1535755918599  50422\n",
      "261  1535756098595  50422\n",
      "262  1535756278595  50422\n",
      "\n",
      "[263 rows x 2 columns]\n"
     ]
    }
   ],
   "source": [
    "for i in range(0,len(metricsList)):\n",
    "    print(metricsList[i]+'_'+startDate.strftime('%Y-%m'))\n",
    "    metricID = metricsList[i]\n",
    "\n",
    "    myUrlQuery = 'https://idlab-iot.tengu.io/api/v1/scopes/{scope}/query/{metric}/events?from={start}&to={end}&things={thing}&orderByTime=asc'\\\n",
    "        .format(scope = scopeID, metric = metricID, start=startTime, end=endTime, thing=thingID)\n",
    "\n",
    "    headers = {\n",
    "        'accept': 'application/json',\n",
    "        'authorization': 'Bearer {0}'.format(myToken),\n",
    "    }\n",
    "\n",
    "    response = requests.get(myUrlQuery, headers=headers)\n",
    "    response.content\n",
    "    data = response.json() \n",
    "    column_names = data['columns']; #print(column_names)\n",
    "    values = data['values']\n",
    "    df = pd.DataFrame.from_dict(values)\n",
    "    df.columns = column_names\n",
    "    battery_data = df[['time','value']]\n",
    "    print(battery_data)\n",
    "    path=r'C:\\Users\\JeffG\\Dropbox\\ICT-Elektronica\\Thesis\\scripts\\battery_data_3'\n",
    "    battery_data.to_csv(path+'\\\\'+metricsList[i]+'_'+startDate.strftime('%Y-%m')+'.csv')"
   ]
  },
  {
   "cell_type": "code",
   "execution_count": null,
   "metadata": {},
   "outputs": [],
   "source": []
  }
 ],
 "metadata": {
  "kernelspec": {
   "display_name": "Python 3",
   "language": "python",
   "name": "python3"
  },
  "language_info": {
   "codemirror_mode": {
    "name": "ipython",
    "version": 3
   },
   "file_extension": ".py",
   "mimetype": "text/x-python",
   "name": "python",
   "nbconvert_exporter": "python",
   "pygments_lexer": "ipython3",
   "version": "3.6.4"
  }
 },
 "nbformat": 4,
 "nbformat_minor": 2
}
