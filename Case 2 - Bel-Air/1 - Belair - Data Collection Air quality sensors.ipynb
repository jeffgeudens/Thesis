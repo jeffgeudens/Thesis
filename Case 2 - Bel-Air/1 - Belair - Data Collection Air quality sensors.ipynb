{
 "cells": [
  {
   "cell_type": "markdown",
   "metadata": {},
   "source": [
    "# Introduction"
   ]
  },
  {
   "cell_type": "markdown",
   "metadata": {},
   "source": [
    "This script is used to gather data from the stack, in essence the Air Quality data."
   ]
  },
  {
   "cell_type": "markdown",
   "metadata": {},
   "source": [
    "# Initialization"
   ]
  },
  {
   "cell_type": "markdown",
   "metadata": {},
   "source": [
    "## Import libraries"
   ]
  },
  {
   "cell_type": "code",
   "execution_count": 2,
   "metadata": {},
   "outputs": [],
   "source": [
    "import pandas as pd\n",
    "import requests\n",
    "import numpy as np\n",
    "import matplotlib.pyplot as plt\n",
    "import matplotlib.dates as mdates\n",
    "import json\n",
    "from datetime import datetime\n",
    "from datetime import timedelta  \n",
    "import time\n",
    "import sys\n",
    "import plotly\n",
    "import plotly.plotly as py\n",
    "import plotly.graph_objs as go\n",
    "import os\n",
    "\n",
    "pd.options.mode.chained_assignment = None "
   ]
  },
  {
   "cell_type": "markdown",
   "metadata": {},
   "source": [
    "## Set up parameters\n",
    "Set up parameters for the queries such as scopeID, token, begin and end date"
   ]
  },
  {
   "cell_type": "code",
   "execution_count": 3,
   "metadata": {},
   "outputs": [],
   "source": [
    "##### Choose scope #####\n",
    "scopeID = 'cot.belair'"
   ]
  },
  {
   "cell_type": "code",
   "execution_count": 23,
   "metadata": {},
   "outputs": [],
   "source": [
    "##### Insert token and generate URL #####\n",
    "myToken = 'eyJhbGciOiJSUzI1NiIsInR5cCIgOiAiSldUIiwia2lkIiA6ICIwUnhaVzd0N1d5aEczaEo3cUhoM3hQa3MzbkthTUE5Zy04SnozY2trQ3EwIn0.eyJqdGkiOiJmYjA4YWI5Mi0zOGVkLTRjNzEtYTM0Yy02YjQ3YWI5OTc2MTQiLCJleHAiOjE1NTMxNzkzOTMsIm5iZiI6MCwiaWF0IjoxNTUzMTc4NzkzLCJpc3MiOiJodHRwczovL2lkbGFiLWlvdC50ZW5ndS5pby9hdXRoL3JlYWxtcy9pZGxhYi1pb3QiLCJhdWQiOiJwb2xpY3ktZW5mb3JjZXIiLCJzdWIiOiI3NGVjNTQzYi03Yjc1LTQ1ZGItOWExNy0xMDY5OTlmYmU3OWEiLCJ0eXAiOiJCZWFyZXIiLCJhenAiOiJzd2FnZ2VyLXVpIiwibm9uY2UiOiJkMmMwOTdlOS0xOWE2LTQ1NWMtYjJkYy0yOTUwNmIwODUwYTQiLCJhdXRoX3RpbWUiOjE1NTMxNzUyNzEsInNlc3Npb25fc3RhdGUiOiJmYWM5NTZiYi1mZTM2LTQyM2EtYTgzOC02YTZlM2IyODhkYWQiLCJhY3IiOiIwIiwiYWxsb3dlZC1vcmlnaW5zIjpbImh0dHBzOi8vaWRsYWItaW90LnRlbmd1LmlvIiwiaHR0cDovL2xvY2FsaG9zdDo1NTU1Il0sInJlc291cmNlX2FjY2VzcyI6eyJwb2xpY3ktZW5mb3JjZXIiOnsicm9sZXMiOlsidXNlcjp2aWV3Il19fSwiYXV0aG9yaXphdGlvbiI6eyJwZXJtaXNzaW9ucyI6W3sicnNpZCI6IjQxOGFiMGYzLWE5NTQtNGEwMS04ZTdlLWFlZGQzN2VjZTcyMyIsInJzbmFtZSI6ImRhdGE6c2NvcGVkOnZpZXcifV19LCJzY29wZSI6Im9wZW5pZCBwcm9maWxlIGVtYWlsIGNvdC1zY29wZSIsImVtYWlsX3ZlcmlmaWVkIjpmYWxzZSwicmlnaHRzIjpbXSwibmFtZSI6IkplZmYgR2V1ZGVucyIsImdyb3VwcyI6WyIvYWxsLXVzZXJzIiwiL2NvdC90aGVzaXMiXSwicHJlZmVycmVkX3VzZXJuYW1lIjoiZ2V1ZGVucy5qZWZmQGdtYWlsLmNvbSIsImdpdmVuX25hbWUiOiJKZWZmIiwiZmFtaWx5X25hbWUiOiJHZXVkZW5zIiwiZW1haWwiOiJnZXVkZW5zLmplZmZAZ21haWwuY29tIiwicGljdHVyZSI6Imh0dHBzOi8vbGg1Lmdvb2dsZXVzZXJjb250ZW50LmNvbS8tRTYxVzBvTmFlOUkvQUFBQUFBQUFBQUkvQUFBQUFBQUFCd2MvUExDNy1mNTdnek0vcGhvdG8uanBnP3N6PTUwIn0.fWSLLm7TSDiBXS2f-VEttD0Mt1tQ-rWR7ce_oAPWqjonBzVVbwEg0Datpjj-3PhxbDtqmm7Iye0eDe3G5RnUwlTvVPW8rCqSuulcNCZgLlZcZEStTtDGJ6re-Q1zh2Ta87XNxd-rY9hnEzDNa01AweZ3V67BzV8Brka_6PHEDOAR_qOrwyVwvWiFGaP-afKyI_lgEycee_zKPrDPuUiHEcgWY5PEjZdmjgl-8ocMidNQlcU6IQZ35AF7QzClIGy47Vk41dpzImIHRVtTYRj5cYiD67gZQPPtzibWXb5JwrphalDFccdCFlwG1O_G3oa583NRTxhmvbF945C8LoGQiA'"
   ]
  },
  {
   "cell_type": "code",
   "execution_count": 19,
   "metadata": {},
   "outputs": [],
   "source": [
    "##### Specify time range #####\n",
    "##### Adjust this time range to specify which period you want to query - Mostly I use periods of one month #####\n",
    "startDate = datetime(2018, 12, 17, 1, 0)\n",
    "endDate = datetime(2019, 2, 1, 1, 0)\n",
    "startTime = int(startDate.timestamp())*1000;  #print(startTime)\n",
    "endTime = int(endDate.timestamp())*1000;  #print(endTime)"
   ]
  },
  {
   "cell_type": "markdown",
   "metadata": {},
   "source": [
    "# LoRa Air quality sensor"
   ]
  },
  {
   "cell_type": "markdown",
   "metadata": {},
   "source": [
    "## Get IDs of the air quality sensors\n",
    "To get the IDs, first the MongoDB is loaded and next the unique IDs are distilled"
   ]
  },
  {
   "cell_type": "code",
   "execution_count": 9,
   "metadata": {},
   "outputs": [],
   "source": [
    "import pymongo\n",
    "from pymongo import MongoClient"
   ]
  },
  {
   "cell_type": "code",
   "execution_count": 10,
   "metadata": {},
   "outputs": [
    {
     "name": "stdout",
     "output_type": "stream",
     "text": [
      "193008\n"
     ]
    },
    {
     "data": {
      "text/html": [
       "<div>\n",
       "<style scoped>\n",
       "    .dataframe tbody tr th:only-of-type {\n",
       "        vertical-align: middle;\n",
       "    }\n",
       "\n",
       "    .dataframe tbody tr th {\n",
       "        vertical-align: top;\n",
       "    }\n",
       "\n",
       "    .dataframe thead th {\n",
       "        text-align: right;\n",
       "    }\n",
       "</style>\n",
       "<table border=\"1\" class=\"dataframe\">\n",
       "  <thead>\n",
       "    <tr style=\"text-align: right;\">\n",
       "      <th></th>\n",
       "      <th>_id</th>\n",
       "      <th>device</th>\n",
       "      <th>gateways</th>\n",
       "      <th>gpsLat</th>\n",
       "      <th>gpsLon</th>\n",
       "      <th>hdop</th>\n",
       "      <th>rx_time</th>\n",
       "      <th>seqNumber</th>\n",
       "      <th>spfact</th>\n",
       "    </tr>\n",
       "  </thead>\n",
       "  <tbody>\n",
       "    <tr>\n",
       "      <th>0</th>\n",
       "      <td>5c17af0d4fa20f164de4b0bb</td>\n",
       "      <td>3432333852378918</td>\n",
       "      <td>[{'rssi': -93, 'esp': -93.461838, 'snr': 10, '...</td>\n",
       "      <td>51.194618</td>\n",
       "      <td>4.418419</td>\n",
       "      <td>0.66</td>\n",
       "      <td>2018-12-17 14:13:33.410</td>\n",
       "      <td>54916</td>\n",
       "      <td>7</td>\n",
       "    </tr>\n",
       "    <tr>\n",
       "      <th>1</th>\n",
       "      <td>5c17af2d4fa20f164de4b0c7</td>\n",
       "      <td>3432333852378918</td>\n",
       "      <td>[{'rssi': -104, 'esp': -104.331955, 'snr': 11,...</td>\n",
       "      <td>51.194618</td>\n",
       "      <td>4.418417</td>\n",
       "      <td>0.69</td>\n",
       "      <td>2018-12-17 14:14:04.616</td>\n",
       "      <td>54917</td>\n",
       "      <td>7</td>\n",
       "    </tr>\n",
       "    <tr>\n",
       "      <th>2</th>\n",
       "      <td>5c17af3c4fa20f164de4b0cb</td>\n",
       "      <td>3432333855378A18</td>\n",
       "      <td>[{'rssi': -107, 'esp': -111.124428, 'snr': -2,...</td>\n",
       "      <td>51.215408</td>\n",
       "      <td>4.413910</td>\n",
       "      <td>0.67</td>\n",
       "      <td>2018-12-17 14:14:19.768</td>\n",
       "      <td>15653</td>\n",
       "      <td>7</td>\n",
       "    </tr>\n",
       "    <tr>\n",
       "      <th>3</th>\n",
       "      <td>5c17af4d4fa20f164de4b0d4</td>\n",
       "      <td>3432333852378918</td>\n",
       "      <td>[{'rssi': -107, 'esp': -107.973228, 'snr': 6, ...</td>\n",
       "      <td>51.194614</td>\n",
       "      <td>4.418419</td>\n",
       "      <td>0.74</td>\n",
       "      <td>2018-12-17 14:14:36.499</td>\n",
       "      <td>54918</td>\n",
       "      <td>7</td>\n",
       "    </tr>\n",
       "    <tr>\n",
       "      <th>4</th>\n",
       "      <td>5c17af604fa20f164de4b0df</td>\n",
       "      <td>3432333851378918</td>\n",
       "      <td>[{'rssi': -114, 'esp': -119.455406, 'snr': -4,...</td>\n",
       "      <td>51.241817</td>\n",
       "      <td>4.430120</td>\n",
       "      <td>0.66</td>\n",
       "      <td>2018-12-17 14:14:56.056</td>\n",
       "      <td>48522</td>\n",
       "      <td>7</td>\n",
       "    </tr>\n",
       "  </tbody>\n",
       "</table>\n",
       "</div>"
      ],
      "text/plain": [
       "                        _id            device  \\\n",
       "0  5c17af0d4fa20f164de4b0bb  3432333852378918   \n",
       "1  5c17af2d4fa20f164de4b0c7  3432333852378918   \n",
       "2  5c17af3c4fa20f164de4b0cb  3432333855378A18   \n",
       "3  5c17af4d4fa20f164de4b0d4  3432333852378918   \n",
       "4  5c17af604fa20f164de4b0df  3432333851378918   \n",
       "\n",
       "                                            gateways     gpsLat    gpsLon  \\\n",
       "0  [{'rssi': -93, 'esp': -93.461838, 'snr': 10, '...  51.194618  4.418419   \n",
       "1  [{'rssi': -104, 'esp': -104.331955, 'snr': 11,...  51.194618  4.418417   \n",
       "2  [{'rssi': -107, 'esp': -111.124428, 'snr': -2,...  51.215408  4.413910   \n",
       "3  [{'rssi': -107, 'esp': -107.973228, 'snr': 6, ...  51.194614  4.418419   \n",
       "4  [{'rssi': -114, 'esp': -119.455406, 'snr': -4,...  51.241817  4.430120   \n",
       "\n",
       "   hdop                 rx_time  seqNumber  spfact  \n",
       "0  0.66 2018-12-17 14:13:33.410      54916       7  \n",
       "1  0.69 2018-12-17 14:14:04.616      54917       7  \n",
       "2  0.67 2018-12-17 14:14:19.768      15653       7  \n",
       "3  0.74 2018-12-17 14:14:36.499      54918       7  \n",
       "4  0.66 2018-12-17 14:14:56.056      48522       7  "
      ]
     },
     "execution_count": 10,
     "metadata": {},
     "output_type": "execute_result"
    }
   ],
   "source": [
    "client = MongoClient('localhost', 27017)\n",
    "db = client.Belair\n",
    "collection = db.data\n",
    "# Extract data, sort by timestamp and reset indexes\n",
    "df = pd.DataFrame(list(collection.find())).reset_index(drop=True)\n",
    "print(len(df))\n",
    "df.head()"
   ]
  },
  {
   "cell_type": "code",
   "execution_count": 11,
   "metadata": {},
   "outputs": [
    {
     "data": {
      "text/plain": [
       "['lora.3432333852378918',\n",
       " 'lora.3432333855378A18',\n",
       " 'lora.3432333851378918',\n",
       " 'lora.3432333864377C18',\n",
       " 'lora.3432333855376418',\n",
       " 'lora.3432333853376B18',\n",
       " 'lora.343233386B376717',\n",
       " 'lora.3432333851376518',\n",
       " 'lora.3432333855376318',\n",
       " 'lora.3432333860376818',\n",
       " 'lora.343233384D378718',\n",
       " 'lora.343233384F378B18',\n",
       " 'lora.343233386A377C18',\n",
       " 'lora.3432333864378618',\n",
       " 'lora.3432333857376218',\n",
       " 'lora.343233385F377C18']"
      ]
     },
     "execution_count": 11,
     "metadata": {},
     "output_type": "execute_result"
    }
   ],
   "source": [
    "devices = df['device'].unique()\n",
    "device_list = list()\n",
    "for i in range(0,len(devices)):\n",
    "    dev = 'lora.' + str(devices[i])\n",
    "    device_list.append(dev)\n",
    "    newpath = r'C:\\Users\\JeffG\\Desktop\\Case 2 - data\\data/' + dev\n",
    "    if not os.path.exists(newpath):\n",
    "        os.makedirs(newpath)\n",
    "    \n",
    "device_list"
   ]
  },
  {
   "cell_type": "markdown",
   "metadata": {},
   "source": [
    "## Choose metrics"
   ]
  },
  {
   "cell_type": "code",
   "execution_count": 4,
   "metadata": {},
   "outputs": [],
   "source": [
    "#metricsList = ['environment.light','environment.temperature','weather.uv','environment.relativehumidity']\n",
    "metricsList = ['airquality.no2', 'airquality.o3', 'airquality.pm1', 'airquality.pm10', \n",
    "               'airquality.pm25', 'environment.relativehumidity', 'environment.temperature']"
   ]
  },
  {
   "cell_type": "markdown",
   "metadata": {},
   "source": [
    "## Run query\n",
    "Query for all devices and all metrics and store locally"
   ]
  },
  {
   "cell_type": "code",
   "execution_count": 24,
   "metadata": {},
   "outputs": [
    {
     "name": "stdout",
     "output_type": "stream",
     "text": [
      "lora.3432333857376218_airquality.no2\n",
      "lora.3432333857376218_airquality.o3\n",
      "lora.3432333857376218_airquality.pm1\n",
      "lora.3432333857376218_airquality.pm10\n",
      "lora.3432333857376218_airquality.pm25\n",
      "lora.3432333857376218_environment.relativehumidity\n",
      "lora.3432333857376218_environment.temperature\n",
      "lora.343233385F377C18_airquality.no2\n",
      "lora.343233385F377C18_airquality.o3\n",
      "lora.343233385F377C18_airquality.pm1\n",
      "lora.343233385F377C18_airquality.pm10\n",
      "lora.343233385F377C18_airquality.pm25\n",
      "lora.343233385F377C18_environment.relativehumidity\n",
      "lora.343233385F377C18_environment.temperature\n"
     ]
    }
   ],
   "source": [
    "for j in range(14,len(device_list)):\n",
    "    thingID = device_list[j]\n",
    "    for i in range(0,len(metricsList)):     \n",
    "        metricID = metricsList[i]\n",
    "        print(thingID + '_' + metricID)\n",
    "\n",
    "        myUrlQuery = 'https://idlab-iot.tengu.io/api/v1/scopes/{scope}/query/{metric}/events?from={start}&to={end}&things={thing}&orderByTime=asc'\\\n",
    "            .format(scope = scopeID, metric = metricID, start=startTime, end=endTime, thing=thingID)\n",
    "\n",
    "        headers = {\n",
    "            'accept': 'application/json',\n",
    "            'authorization': 'Bearer {0}'.format(myToken),\n",
    "        }\n",
    "\n",
    "        response = requests.get(myUrlQuery, headers=headers)\n",
    "        #print(response.content)\n",
    "        data = response.json() \n",
    "        column_names = data['columns']; #print(column_names)\n",
    "        values = data['values']\n",
    "        df = pd.DataFrame.from_dict(values)\n",
    "        df.columns = column_names\n",
    "        air_data = df[['time','value']]\n",
    "    #     print(weather_data)\n",
    "        path=r'C:\\Users\\JeffG\\Desktop\\Case 2 - data\\data/' + thingID\n",
    "        air_data.to_csv(path+'\\\\'+str(thingID) +'_' + metricsList[i]+'_Belair'+'.csv')"
   ]
  },
  {
   "cell_type": "markdown",
   "metadata": {},
   "source": [
    "## Check sizes of the files"
   ]
  },
  {
   "cell_type": "code",
   "execution_count": 26,
   "metadata": {},
   "outputs": [],
   "source": [
    "sizes = pd.DataFrame(columns=metricsList, index=device_list)\n",
    "for dev in device_list:\n",
    "    path = r'C:\\Users\\JeffG\\Desktop\\Case 2 - data\\data/' + dev\n",
    "    for metricID in metricsList:\n",
    "        sizes.loc[dev][metricID] = len(pd.read_csv(path+'\\\\'+str(dev) +'_' + metricID +'_Belair'+'.csv'))"
   ]
  },
  {
   "cell_type": "code",
   "execution_count": 27,
   "metadata": {},
   "outputs": [
    {
     "data": {
      "text/html": [
       "<div>\n",
       "<style scoped>\n",
       "    .dataframe tbody tr th:only-of-type {\n",
       "        vertical-align: middle;\n",
       "    }\n",
       "\n",
       "    .dataframe tbody tr th {\n",
       "        vertical-align: top;\n",
       "    }\n",
       "\n",
       "    .dataframe thead th {\n",
       "        text-align: right;\n",
       "    }\n",
       "</style>\n",
       "<table border=\"1\" class=\"dataframe\">\n",
       "  <thead>\n",
       "    <tr style=\"text-align: right;\">\n",
       "      <th></th>\n",
       "      <th>airquality.no2</th>\n",
       "      <th>airquality.o3</th>\n",
       "      <th>airquality.pm1</th>\n",
       "      <th>airquality.pm10</th>\n",
       "      <th>airquality.pm25</th>\n",
       "      <th>environment.relativehumidity</th>\n",
       "      <th>environment.temperature</th>\n",
       "    </tr>\n",
       "  </thead>\n",
       "  <tbody>\n",
       "    <tr>\n",
       "      <th>lora.3432333852378918</th>\n",
       "      <td>93025</td>\n",
       "      <td>93025</td>\n",
       "      <td>92654</td>\n",
       "      <td>93024</td>\n",
       "      <td>93025</td>\n",
       "      <td>93025</td>\n",
       "      <td>93025</td>\n",
       "    </tr>\n",
       "    <tr>\n",
       "      <th>lora.3432333855378A18</th>\n",
       "      <td>78838</td>\n",
       "      <td>78838</td>\n",
       "      <td>53674</td>\n",
       "      <td>78798</td>\n",
       "      <td>78838</td>\n",
       "      <td>78838</td>\n",
       "      <td>78838</td>\n",
       "    </tr>\n",
       "    <tr>\n",
       "      <th>lora.3432333851378918</th>\n",
       "      <td>109795</td>\n",
       "      <td>109795</td>\n",
       "      <td>108661</td>\n",
       "      <td>109792</td>\n",
       "      <td>109795</td>\n",
       "      <td>109795</td>\n",
       "      <td>109795</td>\n",
       "    </tr>\n",
       "    <tr>\n",
       "      <th>lora.3432333864377C18</th>\n",
       "      <td>104696</td>\n",
       "      <td>104696</td>\n",
       "      <td>102018</td>\n",
       "      <td>104692</td>\n",
       "      <td>104696</td>\n",
       "      <td>104696</td>\n",
       "      <td>104696</td>\n",
       "    </tr>\n",
       "    <tr>\n",
       "      <th>lora.3432333855376418</th>\n",
       "      <td>103826</td>\n",
       "      <td>103826</td>\n",
       "      <td>97461</td>\n",
       "      <td>103811</td>\n",
       "      <td>103826</td>\n",
       "      <td>103826</td>\n",
       "      <td>103826</td>\n",
       "    </tr>\n",
       "    <tr>\n",
       "      <th>lora.3432333853376B18</th>\n",
       "      <td>97035</td>\n",
       "      <td>97035</td>\n",
       "      <td>96772</td>\n",
       "      <td>97035</td>\n",
       "      <td>97035</td>\n",
       "      <td>97035</td>\n",
       "      <td>97035</td>\n",
       "    </tr>\n",
       "    <tr>\n",
       "      <th>lora.343233386B376717</th>\n",
       "      <td>92096</td>\n",
       "      <td>92096</td>\n",
       "      <td>70635</td>\n",
       "      <td>92053</td>\n",
       "      <td>92096</td>\n",
       "      <td>92096</td>\n",
       "      <td>92096</td>\n",
       "    </tr>\n",
       "    <tr>\n",
       "      <th>lora.3432333851376518</th>\n",
       "      <td>8576</td>\n",
       "      <td>8576</td>\n",
       "      <td>6531</td>\n",
       "      <td>8570</td>\n",
       "      <td>8576</td>\n",
       "      <td>8576</td>\n",
       "      <td>8576</td>\n",
       "    </tr>\n",
       "    <tr>\n",
       "      <th>lora.3432333855376318</th>\n",
       "      <td>83572</td>\n",
       "      <td>83572</td>\n",
       "      <td>36130</td>\n",
       "      <td>83489</td>\n",
       "      <td>83572</td>\n",
       "      <td>83572</td>\n",
       "      <td>83572</td>\n",
       "    </tr>\n",
       "    <tr>\n",
       "      <th>lora.3432333860376818</th>\n",
       "      <td>101486</td>\n",
       "      <td>101486</td>\n",
       "      <td>101329</td>\n",
       "      <td>101486</td>\n",
       "      <td>101486</td>\n",
       "      <td>101486</td>\n",
       "      <td>101486</td>\n",
       "    </tr>\n",
       "    <tr>\n",
       "      <th>lora.343233384D378718</th>\n",
       "      <td>8098</td>\n",
       "      <td>8098</td>\n",
       "      <td>1819</td>\n",
       "      <td>8082</td>\n",
       "      <td>8098</td>\n",
       "      <td>8098</td>\n",
       "      <td>8098</td>\n",
       "    </tr>\n",
       "    <tr>\n",
       "      <th>lora.343233384F378B18</th>\n",
       "      <td>23452</td>\n",
       "      <td>23452</td>\n",
       "      <td>11963</td>\n",
       "      <td>23424</td>\n",
       "      <td>23452</td>\n",
       "      <td>23452</td>\n",
       "      <td>23452</td>\n",
       "    </tr>\n",
       "    <tr>\n",
       "      <th>lora.343233386A377C18</th>\n",
       "      <td>109808</td>\n",
       "      <td>109808</td>\n",
       "      <td>108703</td>\n",
       "      <td>109807</td>\n",
       "      <td>109808</td>\n",
       "      <td>109808</td>\n",
       "      <td>109808</td>\n",
       "    </tr>\n",
       "    <tr>\n",
       "      <th>lora.3432333864378618</th>\n",
       "      <td>94525</td>\n",
       "      <td>94525</td>\n",
       "      <td>83202</td>\n",
       "      <td>94501</td>\n",
       "      <td>94525</td>\n",
       "      <td>94525</td>\n",
       "      <td>94525</td>\n",
       "    </tr>\n",
       "    <tr>\n",
       "      <th>lora.3432333857376218</th>\n",
       "      <td>95732</td>\n",
       "      <td>95732</td>\n",
       "      <td>92236</td>\n",
       "      <td>95718</td>\n",
       "      <td>95732</td>\n",
       "      <td>95732</td>\n",
       "      <td>95732</td>\n",
       "    </tr>\n",
       "    <tr>\n",
       "      <th>lora.343233385F377C18</th>\n",
       "      <td>72017</td>\n",
       "      <td>72017</td>\n",
       "      <td>55775</td>\n",
       "      <td>71977</td>\n",
       "      <td>72017</td>\n",
       "      <td>72017</td>\n",
       "      <td>72017</td>\n",
       "    </tr>\n",
       "  </tbody>\n",
       "</table>\n",
       "</div>"
      ],
      "text/plain": [
       "                      airquality.no2 airquality.o3 airquality.pm1  \\\n",
       "lora.3432333852378918          93025         93025          92654   \n",
       "lora.3432333855378A18          78838         78838          53674   \n",
       "lora.3432333851378918         109795        109795         108661   \n",
       "lora.3432333864377C18         104696        104696         102018   \n",
       "lora.3432333855376418         103826        103826          97461   \n",
       "lora.3432333853376B18          97035         97035          96772   \n",
       "lora.343233386B376717          92096         92096          70635   \n",
       "lora.3432333851376518           8576          8576           6531   \n",
       "lora.3432333855376318          83572         83572          36130   \n",
       "lora.3432333860376818         101486        101486         101329   \n",
       "lora.343233384D378718           8098          8098           1819   \n",
       "lora.343233384F378B18          23452         23452          11963   \n",
       "lora.343233386A377C18         109808        109808         108703   \n",
       "lora.3432333864378618          94525         94525          83202   \n",
       "lora.3432333857376218          95732         95732          92236   \n",
       "lora.343233385F377C18          72017         72017          55775   \n",
       "\n",
       "                      airquality.pm10 airquality.pm25  \\\n",
       "lora.3432333852378918           93024           93025   \n",
       "lora.3432333855378A18           78798           78838   \n",
       "lora.3432333851378918          109792          109795   \n",
       "lora.3432333864377C18          104692          104696   \n",
       "lora.3432333855376418          103811          103826   \n",
       "lora.3432333853376B18           97035           97035   \n",
       "lora.343233386B376717           92053           92096   \n",
       "lora.3432333851376518            8570            8576   \n",
       "lora.3432333855376318           83489           83572   \n",
       "lora.3432333860376818          101486          101486   \n",
       "lora.343233384D378718            8082            8098   \n",
       "lora.343233384F378B18           23424           23452   \n",
       "lora.343233386A377C18          109807          109808   \n",
       "lora.3432333864378618           94501           94525   \n",
       "lora.3432333857376218           95718           95732   \n",
       "lora.343233385F377C18           71977           72017   \n",
       "\n",
       "                      environment.relativehumidity environment.temperature  \n",
       "lora.3432333852378918                        93025                   93025  \n",
       "lora.3432333855378A18                        78838                   78838  \n",
       "lora.3432333851378918                       109795                  109795  \n",
       "lora.3432333864377C18                       104696                  104696  \n",
       "lora.3432333855376418                       103826                  103826  \n",
       "lora.3432333853376B18                        97035                   97035  \n",
       "lora.343233386B376717                        92096                   92096  \n",
       "lora.3432333851376518                         8576                    8576  \n",
       "lora.3432333855376318                        83572                   83572  \n",
       "lora.3432333860376818                       101486                  101486  \n",
       "lora.343233384D378718                         8098                    8098  \n",
       "lora.343233384F378B18                        23452                   23452  \n",
       "lora.343233386A377C18                       109808                  109808  \n",
       "lora.3432333864378618                        94525                   94525  \n",
       "lora.3432333857376218                        95732                   95732  \n",
       "lora.343233385F377C18                        72017                   72017  "
      ]
     },
     "execution_count": 27,
     "metadata": {},
     "output_type": "execute_result"
    }
   ],
   "source": [
    "sizes"
   ]
  },
  {
   "cell_type": "markdown",
   "metadata": {},
   "source": [
    "Conclusion:\n",
    "We can use the timestamps op NO2, O3, RH or temperature to fill the gaps. \n",
    "The amount of data per sensor is not the same"
   ]
  },
  {
   "cell_type": "code",
   "execution_count": 27,
   "metadata": {},
   "outputs": [],
   "source": [
    "dev = 'lora.3432333852378918'"
   ]
  },
  {
   "cell_type": "code",
   "execution_count": 32,
   "metadata": {},
   "outputs": [],
   "source": [
    "df1 = pd.read_csv(path+'\\\\'+str(dev) +'_' + \"airquality.no2\" +'_Belair'+'.csv')\n",
    "df1['time'] = pd.to_datetime(df1['time'], unit='ms')\n",
    "df2 = pd.read_csv(path+'\\\\'+str(dev) +'_' + \"airquality.pm1\" +'_Belair'+'.csv')\n",
    "df2['time'] = pd.to_datetime(df2['time'], unit='ms')"
   ]
  },
  {
   "cell_type": "code",
   "execution_count": 36,
   "metadata": {},
   "outputs": [
    {
     "data": {
      "image/png": "[encoded data removed]",
      "text/plain": [
       "<Figure size 1332x756 with 2 Axes>"
      ]
     },
     "metadata": {
      "needs_background": "light"
     },
     "output_type": "display_data"
    },
    {
     "data": {
      "text/plain": [
       "<Figure size 1080x720 with 0 Axes>"
      ]
     },
     "metadata": {},
     "output_type": "display_data"
    }
   ],
   "source": [
    "fig, ax1 = plt.subplots()\n",
    "plt.figure(figsize=(15,10))\n",
    "\n",
    "x1=df1['time']\n",
    "y1= df1['value']\n",
    "ax1.plot(x1, y1, 'b-')\n",
    "ax1.set_xlabel('time')\n",
    "# Make the y-axis label, ticks and tick labels match the line color.\n",
    "ax1.set_ylabel('airquality.no2', color='b')\n",
    "ax1.tick_params('y', colors='b')\n",
    "\n",
    "ax2 = ax1.twinx()\n",
    "x2=df2['time']\n",
    "y2=df2['value']\n",
    "ax2.plot(x2, y2, 'r-')\n",
    "ax2.set_ylabel('airquality.pm1', color='r')\n",
    "ax2.tick_params('y', colors='r')\n",
    "\n",
    "fig.set_size_inches(18.5, 10.5)\n",
    "\n",
    "fig.tight_layout()\n",
    "#fig.savefig(r'C:\\Users\\JeffG\\Dropbox\\ICT-Elektronica\\Thesis\\Case 1 - failing battery pack\\Images\\msup1g30034_voltage_light.png')\n",
    "plt.show()"
   ]
  },
  {
   "cell_type": "code",
   "execution_count": 29,
   "metadata": {},
   "outputs": [],
   "source": [
    "common = df1.merge(df2, left_on='time', right_on='time', how='inner')"
   ]
  },
  {
   "cell_type": "code",
   "execution_count": 31,
   "metadata": {},
   "outputs": [
    {
     "data": {
      "text/plain": [
       "55775"
      ]
     },
     "execution_count": 31,
     "metadata": {},
     "output_type": "execute_result"
    }
   ],
   "source": [
    "len(common)"
   ]
  },
  {
   "cell_type": "code",
   "execution_count": null,
   "metadata": {},
   "outputs": [],
   "source": []
  }
 ],
 "metadata": {
  "kernelspec": {
   "display_name": "Python 3",
   "language": "python",
   "name": "python3"
  },
  "language_info": {
   "codemirror_mode": {
    "name": "ipython",
    "version": 3
   },
   "file_extension": ".py",
   "mimetype": "text/x-python",
   "name": "python",
   "nbconvert_exporter": "python",
   "pygments_lexer": "ipython3",
   "version": "3.7.1"
  },
  "toc": {
   "base_numbering": 1,
   "nav_menu": {},
   "number_sections": true,
   "sideBar": true,
   "skip_h1_title": false,
   "title_cell": "Table of Contents",
   "title_sidebar": "Contents",
   "toc_cell": false,
   "toc_position": {},
   "toc_section_display": true,
   "toc_window_display": false
  }
 },
 "nbformat": 4,
 "nbformat_minor": 2
}
