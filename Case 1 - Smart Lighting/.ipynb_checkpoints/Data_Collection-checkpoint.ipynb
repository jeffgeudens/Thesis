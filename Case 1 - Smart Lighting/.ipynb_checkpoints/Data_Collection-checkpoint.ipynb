{
 "cells": [
  {
   "cell_type": "markdown",
   "metadata": {},
   "source": [
    "# Introduction"
   ]
  },
  {
   "cell_type": "markdown",
   "metadata": {},
   "source": [
    "This script is used to gather the necessary data.\n",
    "Things to be fixed:\n",
    "* Token still needs to be refreshed by hand\n",
    "* Choose time range yourself by inserting the right parameters\n",
    "* Choose things you want to investigate\n",
    "* Choose metrics of interest"
   ]
  },
  {
   "cell_type": "markdown",
   "metadata": {},
   "source": [
    "# Initialization"
   ]
  },
  {
   "cell_type": "markdown",
   "metadata": {},
   "source": [
    "## Import libraries"
   ]
  },
  {
   "cell_type": "code",
   "execution_count": null,
   "metadata": {},
   "outputs": [],
   "source": [
    "import pandas as pd\n",
    "import requests\n",
    "import numpy as np\n",
    "import matplotlib.pyplot as plt\n",
    "import matplotlib.dates as mdates\n",
    "import json\n",
    "from datetime import datetime\n",
    "from datetime import timedelta  \n",
    "import time\n",
    "import sys\n",
    "import plotly\n",
    "import plotly.plotly as py\n",
    "import plotly.graph_objs as go\n",
    "\n",
    "pd.options.mode.chained_assignment = None "
   ]
  },
  {
   "cell_type": "markdown",
   "metadata": {},
   "source": [
    "## Set up parameters"
   ]
  },
  {
   "cell_type": "code",
   "execution_count": null,
   "metadata": {},
   "outputs": [],
   "source": [
    "##### Choose scope #####\n",
    "scopeID = 'cot.smart_lighting'"
   ]
  },
  {
   "cell_type": "code",
   "execution_count": null,
   "metadata": {},
   "outputs": [],
   "source": [
    "##### Insert token and generate URL #####\n",
    "myToken = 'eyJhbGciOiJSUzI1NiIsInR5cCIgOiAiSldUIiwia2lkIiA6ICIwUnhaVzd0N1d5aEczaEo3cUhoM3hQa3MzbkthTUE5Zy04SnozY2trQ3EwIn0.eyJqdGkiOiJmMjMzNzRlMy0zNjZjLTRjOGQtYWU5MS0xZTE0YjRjZDZlZGIiLCJleHAiOjE1NTQxMTI3MzYsIm5iZiI6MCwiaWF0IjoxNTU0MTEyMTM2LCJpc3MiOiJodHRwczovL2lkbGFiLWlvdC50ZW5ndS5pby9hdXRoL3JlYWxtcy9pZGxhYi1pb3QiLCJhdWQiOiJwb2xpY3ktZW5mb3JjZXIiLCJzdWIiOiI3NGVjNTQzYi03Yjc1LTQ1ZGItOWExNy0xMDY5OTlmYmU3OWEiLCJ0eXAiOiJCZWFyZXIiLCJhenAiOiJzd2FnZ2VyLXVpIiwibm9uY2UiOiJiOGVjOTBhZC04MTU5LTQxM2MtYjg5YS1lOTgyOGRlOTc3MzgiLCJhdXRoX3RpbWUiOjE1NTQxMTA3MTAsInNlc3Npb25fc3RhdGUiOiI3MmI5NjI3My1lZmZhLTRmMGEtYjM3Ni03ZmRlOTZjYjQ5MDkiLCJhY3IiOiIwIiwiYWxsb3dlZC1vcmlnaW5zIjpbImh0dHBzOi8vaWRsYWItaW90LnRlbmd1LmlvIiwiaHR0cDovL2xvY2FsaG9zdDo1NTU1Il0sInJlc291cmNlX2FjY2VzcyI6eyJwb2xpY3ktZW5mb3JjZXIiOnsicm9sZXMiOlsidXNlcjp2aWV3Il19fSwiYXV0aG9yaXphdGlvbiI6eyJwZXJtaXNzaW9ucyI6W3sicnNpZCI6IjQxOGFiMGYzLWE5NTQtNGEwMS04ZTdlLWFlZGQzN2VjZTcyMyIsInJzbmFtZSI6ImRhdGE6c2NvcGVkOnZpZXcifV19LCJzY29wZSI6Im9wZW5pZCBwcm9maWxlIGVtYWlsIGNvdC1zY29wZSIsImVtYWlsX3ZlcmlmaWVkIjpmYWxzZSwicmlnaHRzIjpbXSwibmFtZSI6IkplZmYgR2V1ZGVucyIsImdyb3VwcyI6WyIvYWxsLXVzZXJzIiwiL2NvdC90aGVzaXMiXSwicHJlZmVycmVkX3VzZXJuYW1lIjoiZ2V1ZGVucy5qZWZmQGdtYWlsLmNvbSIsImdpdmVuX25hbWUiOiJKZWZmIiwiZmFtaWx5X25hbWUiOiJHZXVkZW5zIiwiZW1haWwiOiJnZXVkZW5zLmplZmZAZ21haWwuY29tIiwicGljdHVyZSI6Imh0dHBzOi8vbGg1Lmdvb2dsZXVzZXJjb250ZW50LmNvbS8tRTYxVzBvTmFlOUkvQUFBQUFBQUFBQUkvQUFBQUFBQUFCd2MvUExDNy1mNTdnek0vcGhvdG8uanBnP3N6PTUwIn0.kRWxpajPkxla1JUZHXRDdsHM2ODWBkbezpU80vFTu0JZvrPrXrMDCdUPCiNv2S8QdNCxNO9Hjfv_I0SsrYpAmOEVZetgvggi1O4HPjkGY7sCHJs7zKTwnflmfElpXW1XaCatO346oVDCncMgBtclvu2uBZ6kNjpamlJHTsu1knmqVjijYCHfIa8Cg_cBpfDtCpsVLumooKTxEar2aVRqFn793ZwYYJaMTHSKqoJfnitsbtjomraj3xxEHYXtSERM9FjAkTGmOZNLF6kI8AtqwLVfS8_l5TXFXJI2I0ELz5bYsKA924bFwbA5tVZsdy7_ZulDcapCg6AXq5ONBVwg4A'"
   ]
  },
  {
   "cell_type": "code",
   "execution_count": null,
   "metadata": {},
   "outputs": [],
   "source": [
    "##### Specify time range #####\n",
    "##### Adjust this time range to specify which period you want to query - Mostly I use periods of one month #####\n",
    "startDate = datetime(2019, 2, 1, 1, 0)\n",
    "endDate = datetime(2019, 3, 1, 1, 0)\n",
    "startTime = int(startDate.timestamp())*1000;  #print(startTime)\n",
    "endTime = int(endDate.timestamp())*1000;  #print(endTime)"
   ]
  },
  {
   "cell_type": "markdown",
   "metadata": {},
   "source": [
    "# Weather station"
   ]
  },
  {
   "cell_type": "code",
   "execution_count": null,
   "metadata": {},
   "outputs": [],
   "source": [
    "thingID = 'davis.davis.weather.1'"
   ]
  },
  {
   "cell_type": "markdown",
   "metadata": {},
   "source": [
    "### Choose metrics"
   ]
  },
  {
   "cell_type": "code",
   "execution_count": null,
   "metadata": {},
   "outputs": [],
   "source": [
    "#metricsList = ['environment.light','environment.temperature','weather.uv','environment.relativehumidity']\n",
    "metricsList = ['weather.pressure', 'weather.rainrate', 'weather.windspeed']"
   ]
  },
  {
   "cell_type": "markdown",
   "metadata": {},
   "source": [
    "### Run query"
   ]
  },
  {
   "cell_type": "code",
   "execution_count": null,
   "metadata": {},
   "outputs": [],
   "source": [
    "for i in range(0,len(metricsList)):\n",
    "    print(metricsList[i]+'_'+startDate.strftime('%Y-%m'))\n",
    "    metricID = metricsList[i]\n",
    "\n",
    "    myUrlQuery = 'https://idlab-iot.tengu.io/api/v1/scopes/{scope}/query/{metric}/events?from={start}&to={end}&things={thing}&orderByTime=asc'\\\n",
    "        .format(scope = scopeID, metric = metricID, start=startTime, end=endTime, thing=thingID)\n",
    "\n",
    "    headers = {\n",
    "        'accept': 'application/json',\n",
    "        'authorization': 'Bearer {0}'.format(myToken),\n",
    "    }\n",
    "\n",
    "    response = requests.get(myUrlQuery, headers=headers)\n",
    "    #print(response.content)\n",
    "    data = response.json() \n",
    "    column_names = data['columns']; #print(column_names)\n",
    "    values = data['values']\n",
    "    df = pd.DataFrame.from_dict(values)\n",
    "    df.columns = column_names\n",
    "    weather_data = df[['time','value']]\n",
    "#     print(weather_data)\n",
    "    path=r'C:\\Users\\JeffG\\Desktop\\Case 1 - data\\weather_data'\n",
    "    weather_data.to_csv(path+'\\\\'+metricsList[i]+'_'+startDate.strftime('%Y-%m')+'.csv')"
   ]
  },
  {
   "cell_type": "markdown",
   "metadata": {},
   "source": [
    "# Battery pack"
   ]
  },
  {
   "cell_type": "code",
   "execution_count": null,
   "metadata": {},
   "outputs": [],
   "source": [
    "#thingID = 'munisense.msup1g30034' # west facing\n",
    "#thingID = 'munisense.msup1i70124' # south facing\n",
    "thingID = 'munisense.msup1h90115' # east facing"
   ]
  },
  {
   "cell_type": "markdown",
   "metadata": {},
   "source": [
    "### Choose metrics"
   ]
  },
  {
   "cell_type": "code",
   "execution_count": null,
   "metadata": {},
   "outputs": [],
   "source": [
    "metricsList = ['Power.BatteryState']\n",
    "# metricsList = ['Power.BatteryState','Power.BatteryVoltHR','Power.PercentageRemaining','Power.TimeRemaining']"
   ]
  },
  {
   "cell_type": "markdown",
   "metadata": {},
   "source": [
    "### Run query"
   ]
  },
  {
   "cell_type": "code",
   "execution_count": null,
   "metadata": {},
   "outputs": [],
   "source": [
    "for i in range(0,len(metricsList)):\n",
    "    print(metricsList[i]+'_'+startDate.strftime('%Y-%m'))\n",
    "    metricID = metricsList[i]\n",
    "\n",
    "    myUrlQuery = 'https://idlab-iot.tengu.io/api/v1/scopes/{scope}/query/{metric}/events?from={start}&to={end}&things={thing}&orderByTime=asc'\\\n",
    "        .format(scope = scopeID, metric = metricID, start=startTime, end=endTime, thing=thingID)\n",
    "\n",
    "    headers = {\n",
    "        'accept': 'application/json',\n",
    "        'authorization': 'Bearer {0}'.format(myToken),\n",
    "    }\n",
    "\n",
    "    response = requests.get(myUrlQuery, headers=headers)\n",
    "    response.content\n",
    "    data = response.json(); #print(data)\n",
    "    column_names = data['columns']; #print(column_names)\n",
    "    values = data['values']\n",
    "    df = pd.DataFrame.from_dict(values)\n",
    "    df.columns = column_names\n",
    "    battery_data = df[['time','value']]\n",
    "#     print(battery_data)\n",
    "    #path=r'C:\\Users\\Jeff\\Dropbox\\ICT-Elektronica\\Thesis\\scripts\\battery_data_3' #vaste pc\n",
    "#     path=r'C:\\Users\\JeffG\\Desktop\\Case 1 - data\\battery_data_2' #Laptop\n",
    "#     battery_data.to_csv(path+'\\\\'+metricsList[i]+'_'+startDate.strftime('%Y-%m')+'.csv')"
   ]
  },
  {
   "cell_type": "code",
   "execution_count": null,
   "metadata": {},
   "outputs": [],
   "source": [
    "def load_voltage(startDate, endDate, thingID, myToken):\n",
    "    ##### Specify time range #####\n",
    "    ##### Adjust this time range to specify which period you want to query - Mostly I use periods of one month #####\n",
    "    startTime = int(startDate.timestamp())*1000;  #print(startTime)\n",
    "    endTime = int(endDate.timestamp())*1000;  #print(endTime)\n",
    "\n",
    "    ##### Choose scope #####\n",
    "    scopeID = 'cot.smart_lighting'\n",
    "\n",
    "    ##### Specify query #####\n",
    "    metricID = 'Power.BatteryVoltHR'\n",
    "    myUrlQuery = 'https://idlab-iot.tengu.io/api/v1/scopes/{scope}/query/{metric}/events?from={start}&to={end}&things={thing}&orderByTime=asc'\\\n",
    "        .format(scope = scopeID, metric = metricID, start=startTime, end=endTime, thing=thingID)\n",
    "\n",
    "    headers = {\n",
    "        'accept': 'application/json',\n",
    "        'authorization': 'Bearer {0}'.format(myToken),\n",
    "    }\n",
    "\n",
    "    ##### Execute query #####\n",
    "    response = requests.get(myUrlQuery, headers=headers)\n",
    "\n",
    "    try:\n",
    "        data = response.json(); \n",
    "        column_names = data['columns']; \n",
    "        values = data['values']\n",
    "        df = pd.DataFrame.from_dict(values)\n",
    "        df.columns = column_names\n",
    "        df[\"value\"] = pd.to_numeric(df.value, errors='coerce')\n",
    "\n",
    "        ##### Clean up dataFrame #####\n",
    "        # Rename the column\n",
    "        df.rename(columns={'value':'Power.BatteryVoltHR'}, inplace=True)\n",
    "        # Set timestamp as index\n",
    "        df = df.set_index(pd.DatetimeIndex(pd.to_datetime(df.time, unit='ms')))\n",
    "        df.drop(['time'], axis=1,inplace=True)\n",
    "        message = 'All good'\n",
    "\n",
    "        return df, message\n",
    "\n",
    "    except ValueError:\n",
    "        df = None\n",
    "        errorMessage = \"Decoding JSON has failed. Probably the token has expired\"\n",
    "        return df, errorMessage\n",
    "    "
   ]
  },
  {
   "cell_type": "code",
   "execution_count": null,
   "metadata": {},
   "outputs": [],
   "source": [
    "endDate = datetime.now()\n",
    "startDate = endDate - timedelta(3/12*365)\n",
    "thingID = 'munisense.msup1h90115' # east facing\n",
    "myToken = 'eyJhbGciOiJSUzI1NiIsInR5cCIgOiAiSldUIiwia2lkIiA6ICIwUnhaVzd0N1d5aEczaEo3cUhoM3hQa3MzbkthTUE5Zy04SnozY2trQ3EwIn0.eyJqdGkiOiI1Y2Y3NjAyNi1mYTJhLTRmZTYtYWU5ZC02NDU1MjI3ZWVhZDciLCJleHAiOjE1NTQxNDc0MDQsIm5iZiI6MCwiaWF0IjoxNTU0MTQ2ODA0LCJpc3MiOiJodHRwczovL2lkbGFiLWlvdC50ZW5ndS5pby9hdXRoL3JlYWxtcy9pZGxhYi1pb3QiLCJhdWQiOiJwb2xpY3ktZW5mb3JjZXIiLCJzdWIiOiI3NGVjNTQzYi03Yjc1LTQ1ZGItOWExNy0xMDY5OTlmYmU3OWEiLCJ0eXAiOiJCZWFyZXIiLCJhenAiOiJzd2FnZ2VyLXVpIiwibm9uY2UiOiJhMzRmMmE1Yy02NzgzLTRmYmMtOTNkMy1kOWIyNDhhNTFmZmEiLCJhdXRoX3RpbWUiOjE1NTQxNDY4MDMsInNlc3Npb25fc3RhdGUiOiIwOTQyN2VkMC02YTg0LTRlZDktOTYyOC04NzkyMjAzZTM2ODkiLCJhY3IiOiIxIiwiYWxsb3dlZC1vcmlnaW5zIjpbImh0dHBzOi8vaWRsYWItaW90LnRlbmd1LmlvIiwiaHR0cDovL2xvY2FsaG9zdDo1NTU1Il0sInJlc291cmNlX2FjY2VzcyI6eyJwb2xpY3ktZW5mb3JjZXIiOnsicm9sZXMiOlsidXNlcjp2aWV3Il19fSwiYXV0aG9yaXphdGlvbiI6eyJwZXJtaXNzaW9ucyI6W3sicnNpZCI6IjQxOGFiMGYzLWE5NTQtNGEwMS04ZTdlLWFlZGQzN2VjZTcyMyIsInJzbmFtZSI6ImRhdGE6c2NvcGVkOnZpZXcifV19LCJzY29wZSI6Im9wZW5pZCBwcm9maWxlIGVtYWlsIGNvdC1zY29wZSIsImVtYWlsX3ZlcmlmaWVkIjpmYWxzZSwicmlnaHRzIjpbXSwibmFtZSI6IkplZmYgR2V1ZGVucyIsImdyb3VwcyI6WyIvYWxsLXVzZXJzIiwiL2NvdC90aGVzaXMiXSwicHJlZmVycmVkX3VzZXJuYW1lIjoiZ2V1ZGVucy5qZWZmQGdtYWlsLmNvbSIsImdpdmVuX25hbWUiOiJKZWZmIiwiZmFtaWx5X25hbWUiOiJHZXVkZW5zIiwiZW1haWwiOiJnZXVkZW5zLmplZmZAZ21haWwuY29tIiwicGljdHVyZSI6Imh0dHBzOi8vbGg1Lmdvb2dsZXVzZXJjb250ZW50LmNvbS8tRTYxVzBvTmFlOUkvQUFBQUFBQUFBQUkvQUFBQUFBQUFCd2MvUExDNy1mNTdnek0vcGhvdG8uanBnP3N6PTUwIn0.hz9g4pUg-_xFRWum7BR4hhjCW3mQEaBgQ3VfJe-IRoDoIa6FmDQ7J-AQ7W4PbkSr1cXw4sy94B4fL_6GYoV2QwdqJNEqipCV0YVvfNt7UmLeyLMLDPQbZIrRMu-O1k-JQ67nroFlPCQKrIdB5pvfqYHQzpEkp6niAQu_Mypm2Hgz7ulSC0xlgY3rqmkIo1VhpRNULEmS1B19_91DdFgmADX6843HtOlJCll4xJ-hLfpnFBNejczNX8gQ9ImfRzJxSYEAAwETQLVgDXu_gQyeo7z4P0OuWx51SDAhhHFp9f5tfjLDvb86Kk2sZxSbdsH9sMANAfzduMGjFVfZIzxOFA'\n",
    "\n",
    "df = load_voltage(startDate, endDate, thingID, myToken)"
   ]
  },
  {
   "cell_type": "code",
   "execution_count": null,
   "metadata": {},
   "outputs": [],
   "source": [
    "df['moving_average'] = df['Power.BatteryVoltHR'].rolling(window_size).mean()\n",
    "df['residual'] = df['Power.BatteryVoltHR'] - df['moving_average']"
   ]
  },
  {
   "cell_type": "markdown",
   "metadata": {},
   "source": [
    "# Label anomalies"
   ]
  },
  {
   "cell_type": "code",
   "execution_count": null,
   "metadata": {},
   "outputs": [],
   "source": [
    "def label_anomaly_moving_std (row):\n",
    "    if (row['Power.BatteryVoltHR'] > (row['moving_average'] + (sigma * row['moving_std']))) | (row['Power.BatteryVoltHR'] < (row['moving_average'] - (sigma * row['moving_std']))):\n",
    "        return 1\n",
    "    else:\n",
    "        return 0\n",
    "\n",
    "def label_anomaly_fixed_std (row, fixed_std):\n",
    "    if (row['Power.BatteryVoltHR'] > (row['moving_average'] + (sigma * fixed_std))) | (row['Power.BatteryVoltHR'] < (row['moving_average'] - (sigma * fixed_std))):\n",
    "        return 1\n",
    "    else:\n",
    "        return 0"
   ]
  },
  {
   "cell_type": "markdown",
   "metadata": {},
   "source": [
    "# Low pass filtering"
   ]
  },
  {
   "cell_type": "code",
   "execution_count": null,
   "metadata": {},
   "outputs": [],
   "source": [
    "def low_pass_filtering(df, window_size, sigma, fixed_std):\n",
    "    # Calculate moving average\n",
    "    df['moving_average'] = df['Power.BatteryVoltHR'].rolling(window_size).mean()\n",
    "\n",
    "    # Calculate anomalies\n",
    "    df['residual'] = df['Power.BatteryVoltHR'] - df['moving_average']\n",
    "    df['moving_std'] = df['Power.BatteryVoltHR'].rolling(window_size).std()\n",
    "    df.dropna(inplace=True)\n",
    "    df['anomaly_flag_moving_std']=df.apply (lambda row: label_anomaly_moving_std(row), axis=1)\n",
    "    df['anomaly_flag_fixed_std']=df.apply (lambda row: label_anomaly_fixed_std(row, fixed_std), axis=1)\n",
    "\n",
    "    moving_anomalies = df[df['anomaly_flag_moving_std']==1]\n",
    "    fixed_anomalies = df[df['anomaly_flag_fixed_std']==1]\n",
    "    \n",
    "    return df"
   ]
  },
  {
   "cell_type": "code",
   "execution_count": null,
   "metadata": {},
   "outputs": [],
   "source": [
    "df = low_pass_filtering(df, 256, 3, fixed_std)\n",
    "moving_anomalies = df[df['anomaly_flag_moving_std']==1]\n",
    "fixed_anomalies = df[df['anomaly_flag_fixed_std']==1]"
   ]
  },
  {
   "cell_type": "markdown",
   "metadata": {},
   "source": [
    "# Saving data to SQL database"
   ]
  },
  {
   "cell_type": "markdown",
   "metadata": {},
   "source": [
    "## Load libraries"
   ]
  },
  {
   "cell_type": "code",
   "execution_count": null,
   "metadata": {},
   "outputs": [],
   "source": [
    "import pandas as pd\n",
    "import mysql.connector\n",
    "from sqlalchemy import create_engine"
   ]
  },
  {
   "cell_type": "code",
   "execution_count": null,
   "metadata": {},
   "outputs": [],
   "source": [
    "def initialize_database():\n",
    "    user = 'root'\n",
    "    passw = 'root'\n",
    "    host =  'localhost'  # either localhost or ip e.g. '172.17.0.2' or hostname address \n",
    "    port = 3306 \n",
    "    database = 'smart_lighting'\n",
    "    engine = create_engine('mysql+mysqlconnector://' + user + ':' + passw + '@' + host + ':' + str(port) + '/' + database , echo=False)\n",
    "    return engine\n",
    "\n",
    "def load_voltage_from_database(thingID, startDate, endDate, engine):\n",
    "    table_name = 'battery_voltage'\n",
    "    start_date = startDate.strftime(\"%Y-%m-%d %H:%M:%S\")\n",
    "    end_date = endDate.strftime(\"%Y-%m-%d %H:%M:%S\")\n",
    "    query = ''' SELECT * \n",
    "                FROM {} \n",
    "                WHERE (sourceId = '{}') AND (time between '{}' and '{}')'''.format(table_name, thingID, start_date, end_date)\n",
    "    df = pd.read_sql(query, engine, index_col='time')\n",
    "    return df"
   ]
  },
  {
   "cell_type": "code",
   "execution_count": null,
   "metadata": {},
   "outputs": [],
   "source": [
    "endDate = datetime.now()\n",
    "startDate = endDate - timedelta(9/12*365)\n",
    "myToken = 'eyJhbGciOiJSUzI1NiIsInR5cCIgOiAiSldUIiwia2lkIiA6ICIwUnhaVzd0N1d5aEczaEo3cUhoM3hQa3MzbkthTUE5Zy04SnozY2trQ3EwIn0.eyJqdGkiOiIzOGZkM2UwMi1mOTE4LTQzNTMtYmQwZi1hNTE0MWUzZTc5ZjUiLCJleHAiOjE1NTQxMzIwMjEsIm5iZiI6MCwiaWF0IjoxNTU0MTMxNDIxLCJpc3MiOiJodHRwczovL2lkbGFiLWlvdC50ZW5ndS5pby9hdXRoL3JlYWxtcy9pZGxhYi1pb3QiLCJhdWQiOiJwb2xpY3ktZW5mb3JjZXIiLCJzdWIiOiI3NGVjNTQzYi03Yjc1LTQ1ZGItOWExNy0xMDY5OTlmYmU3OWEiLCJ0eXAiOiJCZWFyZXIiLCJhenAiOiJzd2FnZ2VyLXVpIiwibm9uY2UiOiIyNTUwNDA4YS03NWRjLTRiM2EtYjM2Yi1iYzQ5ZjU3MzhlMWYiLCJhdXRoX3RpbWUiOjE1NTQxMzA5MDAsInNlc3Npb25fc3RhdGUiOiIzNjFjMmUzYi1kMTRlLTRhZTMtODU1Ni1kOTA4OTFkMGM4OWUiLCJhY3IiOiIwIiwiYWxsb3dlZC1vcmlnaW5zIjpbImh0dHBzOi8vaWRsYWItaW90LnRlbmd1LmlvIiwiaHR0cDovL2xvY2FsaG9zdDo1NTU1Il0sInJlc291cmNlX2FjY2VzcyI6eyJwb2xpY3ktZW5mb3JjZXIiOnsicm9sZXMiOlsidXNlcjp2aWV3Il19fSwiYXV0aG9yaXphdGlvbiI6eyJwZXJtaXNzaW9ucyI6W3sicnNpZCI6IjQxOGFiMGYzLWE5NTQtNGEwMS04ZTdlLWFlZGQzN2VjZTcyMyIsInJzbmFtZSI6ImRhdGE6c2NvcGVkOnZpZXcifV19LCJzY29wZSI6Im9wZW5pZCBwcm9maWxlIGVtYWlsIGNvdC1zY29wZSIsImVtYWlsX3ZlcmlmaWVkIjpmYWxzZSwicmlnaHRzIjpbXSwibmFtZSI6IkplZmYgR2V1ZGVucyIsImdyb3VwcyI6WyIvYWxsLXVzZXJzIiwiL2NvdC90aGVzaXMiXSwicHJlZmVycmVkX3VzZXJuYW1lIjoiZ2V1ZGVucy5qZWZmQGdtYWlsLmNvbSIsImdpdmVuX25hbWUiOiJKZWZmIiwiZmFtaWx5X25hbWUiOiJHZXVkZW5zIiwiZW1haWwiOiJnZXVkZW5zLmplZmZAZ21haWwuY29tIiwicGljdHVyZSI6Imh0dHBzOi8vbGg1Lmdvb2dsZXVzZXJjb250ZW50LmNvbS8tRTYxVzBvTmFlOUkvQUFBQUFBQUFBQUkvQUFBQUFBQUFCd2MvUExDNy1mNTdnek0vcGhvdG8uanBnP3N6PTUwIn0.d-QVLWkYSYwbBBsFaub3onbnrF5ikyrVhu6z4jCIXQm7g1-Khc-SFWcD802IM0QppseSQziFD0YnhrVTD4SipUncTiJBjT2db235pKk8715tLH1PvijCDnPiTESs8IB6EZWEdBuiInEbgGN-3shhixfWySTA6L1W0XpkHvGpYdbDgIaTSz_uHn6Ebe2DpLm6Nu5MR1teR1ojuz_jLZVC0KNr75iUSfINCecOo2blbzQqVP_E1B9vk2b9NBiAS5vwX_j3r8kw-NX-xbK9qVRMQl1ImC38QBEveqNDE2qIEK3kCP7VKBsZX2t1M5KvpZ3q7f6oWRm9lQc5QMoAh5ThGw'\n",
    "things = ['munisense.msup1g30034', 'munisense.msup1i70124', 'munisense.msup1h90115', 'munisense.msup1h90103']\n",
    "for thingID in things:\n",
    "    df = load_voltage(startDate, endDate, thingID, myToken)\n",
    "    df.to_sql(name='battery_voltage', con=engine, if_exists = 'append', index=True)"
   ]
  },
  {
   "cell_type": "code",
   "execution_count": null,
   "metadata": {},
   "outputs": [],
   "source": [
    "endDate = datetime.now(); print(endDate)\n",
    "startDate = endDate - timedelta(8/12*365); print(startDate)\n",
    "\n",
    "df1 = load_voltage_from_database(thingID, startDate, endDate, engine)\n",
    "startDate = find_last_datapoint(thingID)\n",
    "df2 = load_voltage_from_database('munisense.msup1h90103', startDate, endDate, engine)\n"
   ]
  }
 ],
 "metadata": {
  "kernelspec": {
   "display_name": "Python 3",
   "language": "python",
   "name": "python3"
  },
  "language_info": {
   "codemirror_mode": {
    "name": "ipython",
    "version": 3
   },
   "file_extension": ".py",
   "mimetype": "text/x-python",
   "name": "python",
   "nbconvert_exporter": "python",
   "pygments_lexer": "ipython3",
   "version": "3.7.1"
  }
 },
 "nbformat": 4,
 "nbformat_minor": 2
}
