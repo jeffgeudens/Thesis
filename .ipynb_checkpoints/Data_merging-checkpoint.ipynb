{
 "cells": [
  {
   "cell_type": "markdown",
   "metadata": {},
   "source": [
    "# Introduction\n",
    "In this script, I'll try to take in all different .csv-files that were generated in a previous step (1-month ranges) in order to merge them into one big file for:\n",
    "* Battery Pack (ID = 'munisense.msup1g30034')\n",
    "    * Power.BatteryState\n",
    "    * Power.BatteryVoltHR\n",
    "    * Power.PercentageRemaining\n",
    "    * Power.TimeRemaining\n",
    "* Weather station (ID = 'davis.davis.weather.1')\n",
    "    * environment.light\n",
    "    * environment.temperature\n",
    "    * weather.uv\n",
    "    * environment.relativehumidity"
   ]
  },
  {
   "cell_type": "code",
   "execution_count": 1,
   "metadata": {},
   "outputs": [],
   "source": [
    "import pandas as pd\n",
    "import glob"
   ]
  },
  {
   "cell_type": "markdown",
   "metadata": {},
   "source": [
    "# Weather data"
   ]
  },
  {
   "cell_type": "code",
   "execution_count": 2,
   "metadata": {},
   "outputs": [],
   "source": [
    "path = r'C:\\Users\\Jeff\\Dropbox\\ICT-Elektronica\\Thesis\\scripts\\weather_data'"
   ]
  },
  {
   "cell_type": "code",
   "execution_count": 3,
   "metadata": {},
   "outputs": [],
   "source": [
    "##### metricsList is used for the strings (names of the tables) #####\n",
    "metricsList = ['environment.light','environment.temperature','weather.uv','environment.relativehumidity']"
   ]
  },
  {
   "cell_type": "code",
   "execution_count": 4,
   "metadata": {},
   "outputs": [
    {
     "name": "stderr",
     "output_type": "stream",
     "text": [
      "C:\\Users\\Jeff\\Anaconda3\\lib\\site-packages\\numpy\\lib\\arraysetops.py:466: FutureWarning: elementwise comparison failed; returning scalar instead, but in the future will perform elementwise comparison\n",
      "  mask |= (ar1 == a)\n"
     ]
    }
   ],
   "source": [
    "##### tableList is used as a list of the newly generated tables #####\n",
    "tableList = ['environment.light','environment.temperature','weather.uv','environment.relativehumidity']\n",
    "##### This loop merges all the csv-files in new dataframes\n",
    "for i in range(0,len(metricsList)): \n",
    "    dataList = glob.glob(path+'\\\\'+metricsList[i]+'*')\n",
    "#     print(glob.glob(path+'\\\\environment.light*'))\n",
    "    for j in range(0,len(dataList)):\n",
    "#         print(dataList[j])\n",
    "        if j == 0:\n",
    "            tableList[i] = pd.read_csv(dataList[j],  index_col=[0])\n",
    "        else :\n",
    "            tableList[i] = tableList[i].append(pd.read_csv(dataList[j], index_col=[0]),ignore_index=True)\n",
    "    tableList[i].to_csv(path+'\\\\'+metricsList[i]+'_merged.csv')  "
   ]
  },
  {
   "cell_type": "markdown",
   "metadata": {},
   "source": [
    "# Battery data"
   ]
  },
  {
   "cell_type": "code",
   "execution_count": 8,
   "metadata": {},
   "outputs": [],
   "source": [
    "path = r'C:\\Users\\JeffG\\Dropbox\\ICT-Elektronica\\Thesis\\scripts\\battery_data_3'"
   ]
  },
  {
   "cell_type": "code",
   "execution_count": 9,
   "metadata": {},
   "outputs": [],
   "source": [
    "##### metricsList is used for the strings (names of the tables) #####\n",
    "metricsList = ['Power.BatteryState','Power.BatteryVoltHR','Power.PercentageRemaining','Power.TimeRemaining']"
   ]
  },
  {
   "cell_type": "code",
   "execution_count": 10,
   "metadata": {},
   "outputs": [],
   "source": [
    "##### tableList is used as a list of the newly generated tables #####\n",
    "tableList = ['Power.BatteryState','Power.BatteryVoltHR','Power.PercentageRemaining','Power.TimeRemaining']\n",
    "##### This loop merges all the csv-files in new dataframes\n",
    "for i in range(0,len(metricsList)): \n",
    "    dataList = glob.glob(path+'\\\\'+metricsList[i]+'*')\n",
    "#     print(glob.glob(path+'\\\\environment.light*'))\n",
    "    for j in range(0,len(dataList)):\n",
    "#         print(dataList[j])\n",
    "        if j == 0:\n",
    "            tableList[i] = pd.read_csv(dataList[j],  index_col=[0])\n",
    "        else :\n",
    "            tableList[i] = tableList[i].append(pd.read_csv(dataList[j], index_col=[0]),ignore_index=True)\n",
    "    tableList[i].to_csv(path+'\\\\'+metricsList[i]+'_merged.csv')  "
   ]
  },
  {
   "cell_type": "code",
   "execution_count": null,
   "metadata": {},
   "outputs": [],
   "source": []
  },
  {
   "cell_type": "code",
   "execution_count": null,
   "metadata": {},
   "outputs": [],
   "source": []
  },
  {
   "cell_type": "code",
   "execution_count": null,
   "metadata": {},
   "outputs": [],
   "source": []
  },
  {
   "cell_type": "code",
   "execution_count": null,
   "metadata": {},
   "outputs": [],
   "source": []
  }
 ],
 "metadata": {
  "kernelspec": {
   "display_name": "Python 3",
   "language": "python",
   "name": "python3"
  },
  "language_info": {
   "codemirror_mode": {
    "name": "ipython",
    "version": 3
   },
   "file_extension": ".py",
   "mimetype": "text/x-python",
   "name": "python",
   "nbconvert_exporter": "python",
   "pygments_lexer": "ipython3",
   "version": "3.6.4"
  }
 },
 "nbformat": 4,
 "nbformat_minor": 2
}
