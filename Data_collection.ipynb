{
 "cells": [
  {
   "cell_type": "markdown",
   "metadata": {},
   "source": [
    "# Introduction"
   ]
  },
  {
   "cell_type": "markdown",
   "metadata": {},
   "source": [
    "This script is used to gather the necessary data.\n",
    "Things to be fixed:\n",
    "* Token still needs to be refreshed by hand\n",
    "* Choose time range yourself by inserting the right parameters\n",
    "* Choose things you want to investigate\n",
    "* Choose metrics of interest"
   ]
  },
  {
   "cell_type": "markdown",
   "metadata": {},
   "source": [
    "# Initialization"
   ]
  },
  {
   "cell_type": "markdown",
   "metadata": {},
   "source": [
    "## Import libraries"
   ]
  },
  {
   "cell_type": "code",
   "execution_count": 8,
   "metadata": {},
   "outputs": [],
   "source": [
    "import pandas as pd\n",
    "import requests\n",
    "import numpy as np\n",
    "import matplotlib.pyplot as plt\n",
    "import matplotlib.dates as mdates\n",
    "import json\n",
    "from datetime import datetime\n",
    "from datetime import timedelta  \n",
    "import time\n",
    "import sys\n",
    "import plotly\n",
    "import plotly.plotly as py\n",
    "import plotly.graph_objs as go\n",
    "\n",
    "pd.options.mode.chained_assignment = None "
   ]
  },
  {
   "cell_type": "markdown",
   "metadata": {},
   "source": [
    "## Set up parameters"
   ]
  },
  {
   "cell_type": "code",
   "execution_count": 9,
   "metadata": {},
   "outputs": [],
   "source": [
    "##### Choose scope #####\n",
    "scopeID = 'cot.smart_lighting'"
   ]
  },
  {
   "cell_type": "code",
   "execution_count": 65,
   "metadata": {},
   "outputs": [],
   "source": [
    "##### Insert token and generate URL #####\n",
    "myToken = 'eyJhbGciOiJSUzI1NiIsInR5cCIgOiAiSldUIiwia2lkIiA6ICJyNGFKWWhESXhPdElaY3hILVpYeTh5MFBib1p4akljUUhvLUJWYUtTQjVVIn0.eyJqdGkiOiJjYjZkOWFkNi0wMzgxLTQ3MzEtYmVjNi0zNGE5NDc5MDQ5MzkiLCJleHAiOjE1NDQyNzYxMjYsIm5iZiI6MCwiaWF0IjoxNTQ0Mjc1ODI2LCJpc3MiOiJodHRwczovL2lkbGFiLWlvdC50ZW5ndS5pby9hdXRoL3JlYWxtcy9pZGxhYi1pb3QiLCJhdWQiOiJwb2xpY3ktZW5mb3JjZXIiLCJzdWIiOiIzZDA3YmQzZi0zMjRlLTQ5ZDEtYTVmNS0xZGI5NWQwODllNDUiLCJ0eXAiOiJCZWFyZXIiLCJhenAiOiJzd2FnZ2VyLXVpIiwibm9uY2UiOiJiZTljYTUxMS01YzdiLTQyY2UtYWVjYy01M2M2ZmIxN2VhNzUiLCJhdXRoX3RpbWUiOjE1NDQyNzM1NDksInNlc3Npb25fc3RhdGUiOiIzOTljNTA3ZS1hZDFkLTRhY2EtOWExNS04MjExMDE0M2FhMmMiLCJhY3IiOiIwIiwiYWxsb3dlZC1vcmlnaW5zIjpbImh0dHBzOi8vaWRsYWItaW90LnRlbmd1LmlvIiwiaHR0cDovL2xvY2FsaG9zdDo1NTU1Il0sInJlc291cmNlX2FjY2VzcyI6eyJwb2xpY3ktZW5mb3JjZXIiOnsicm9sZXMiOlsidXNlcjp2aWV3Il19fSwiYXV0aG9yaXphdGlvbiI6eyJwZXJtaXNzaW9ucyI6W3sicnNpZCI6IjQxOGFiMGYzLWE5NTQtNGEwMS04ZTdlLWFlZGQzN2VjZTcyMyIsInJzbmFtZSI6ImRhdGE6c2NvcGVkOnZpZXcifV19LCJzY29wZSI6Im9wZW5pZCBwcm9maWxlIGNvdC1zY29wZSBlbWFpbCIsImVtYWlsX3ZlcmlmaWVkIjpmYWxzZSwicmlnaHRzIjpbXSwibmFtZSI6IkplZmYgR2V1ZGVucyIsImdyb3VwcyI6WyIvYWxsLXVzZXJzIiwiL2NvdC90aGVzaXMiXSwicHJlZmVycmVkX3VzZXJuYW1lIjoiZ2V1ZGVucy5qZWZmQGdtYWlsLmNvbSIsImdpdmVuX25hbWUiOiJKZWZmIiwiZmFtaWx5X25hbWUiOiJHZXVkZW5zIiwiZW1haWwiOiJnZXVkZW5zLmplZmZAZ21haWwuY29tIiwicGljdHVyZSI6Imh0dHBzOi8vbGg1Lmdvb2dsZXVzZXJjb250ZW50LmNvbS8tRTYxVzBvTmFlOUkvQUFBQUFBQUFBQUkvQUFBQUFBQUFCd2MvUExDNy1mNTdnek0vcGhvdG8uanBnP3N6PTUwIn0.X6gnwBTQGHVe-eUeT6vCMuK9d6nrUrRGQV5owCybNwrXMx6DNeKb33sh48rzsAzmvcOvgjfiJKvYm5fH52DqebMQFhB5-caaxRc-uGKolpc6Abks3o989spxE5raMkfA5bKaJ5BBW1wYEXSxLJ7acu2aNKsNkcH8eYVwFJ2gYM66W6gUryEkx_7_bq5ucsZPSVAEOzZ7BK4CWlz1JhQboR9LV5mv2kg-H6VJBde3u4e0OgDSxdOspUu53_T5pa1ARW72mc3ChvdlVRHceD3_mJ7PyysmzI6rjkX7-RlbS0mkp-vH-A1V-0w7Q303NrZtbOapmv8CgSHKTp7CvsmvXw'"
   ]
  },
  {
   "cell_type": "code",
   "execution_count": 73,
   "metadata": {},
   "outputs": [],
   "source": [
    "##### Specify time range #####\n",
    "##### Adjust this time range to specify which period you want to query - Mostly I use periods of one month #####\n",
    "startDate = datetime(2018, 11, 1, 1, 0)\n",
    "endDate = datetime(2018, 12, 1, 1, 0)\n",
    "startTime = int(startDate.timestamp())*1000;  #print(startTime)\n",
    "endTime = int(endDate.timestamp())*1000;  #print(endTime)"
   ]
  },
  {
   "cell_type": "markdown",
   "metadata": {},
   "source": [
    "# Weather station"
   ]
  },
  {
   "cell_type": "code",
   "execution_count": 59,
   "metadata": {},
   "outputs": [],
   "source": [
    "thingID = 'davis.davis.weather.1'"
   ]
  },
  {
   "cell_type": "markdown",
   "metadata": {},
   "source": [
    "### Choose metrics"
   ]
  },
  {
   "cell_type": "code",
   "execution_count": 60,
   "metadata": {},
   "outputs": [],
   "source": [
    "metricsList = ['environment.light','environment.temperature','weather.uv','environment.relativehumidity']"
   ]
  },
  {
   "cell_type": "markdown",
   "metadata": {},
   "source": [
    "### Run query"
   ]
  },
  {
   "cell_type": "code",
   "execution_count": 62,
   "metadata": {},
   "outputs": [
    {
     "name": "stdout",
     "output_type": "stream",
     "text": [
      "environment.light2018-08\n",
      "environment.temperature2018-08\n",
      "weather.uv2018-08\n",
      "environment.relativehumidity2018-08\n"
     ]
    }
   ],
   "source": [
    "for i in range(0,len(metricsList)):\n",
    "    print(metricsList[i]+'_'+startDate.strftime('%Y-%m'))\n",
    "    metricID = metricsList[i]\n",
    "\n",
    "    myUrlQuery = 'https://idlab-iot.tengu.io/api/v1/scopes/{scope}/query/{metric}/events?from={start}&to={end}&things={thing}&orderByTime=asc'\\\n",
    "        .format(scope = scopeID, metric = metricID, start=startTime, end=endTime, thing=thingID)\n",
    "\n",
    "    headers = {\n",
    "        'accept': 'application/json',\n",
    "        'authorization': 'Bearer {0}'.format(myToken),\n",
    "    }\n",
    "\n",
    "    response = requests.get(myUrlQuery, headers=headers)\n",
    "    response.content\n",
    "    data = response.json() \n",
    "    column_names = data['columns']; #print(column_names)\n",
    "    values = data['values']\n",
    "    df = pd.DataFrame.from_dict(values)\n",
    "    df.columns = column_names\n",
    "    weather_data = df[['time','value']]\n",
    "#     print(weather_data)\n",
    "    path=r'C:\\Users\\Jeff\\Dropbox\\ICT-Elektronica\\Thesis\\scripts\\weather_data'\n",
    "    weather_data.to_csv(path+'\\\\'+metricsList[i]+'_'+startDate.strftime('%Y-%m')+'.csv')"
   ]
  },
  {
   "cell_type": "markdown",
   "metadata": {},
   "source": [
    "# Battery pack"
   ]
  },
  {
   "cell_type": "code",
   "execution_count": 66,
   "metadata": {},
   "outputs": [],
   "source": [
    "thingID = 'munisense.msup1g30034'"
   ]
  },
  {
   "cell_type": "markdown",
   "metadata": {},
   "source": [
    "### Choose metrics"
   ]
  },
  {
   "cell_type": "code",
   "execution_count": 67,
   "metadata": {},
   "outputs": [],
   "source": [
    "metricsList = ['Power.BatteryState','Power.BatteryVoltHR','Power.PercentageRemaining','Power.TimeRemaining']"
   ]
  },
  {
   "cell_type": "markdown",
   "metadata": {},
   "source": [
    "### Run query"
   ]
  },
  {
   "cell_type": "code",
   "execution_count": 74,
   "metadata": {},
   "outputs": [
    {
     "name": "stdout",
     "output_type": "stream",
     "text": [
      "Power.BatteryState_2018-11\n",
      "               time value\n",
      "0     1541030528023     0\n",
      "1     1541030707999     0\n",
      "2     1541030888115     0\n",
      "3     1541031068031     0\n",
      "4     1541031248049     0\n",
      "5     1541031428056     0\n",
      "6     1541031608046     0\n",
      "7     1541031788039     0\n",
      "8     1541031968060     0\n",
      "9     1541032148116     0\n",
      "10    1541032328043     0\n",
      "11    1541032508018     0\n",
      "12    1541032688053     0\n",
      "13    1541032868052     0\n",
      "14    1541033048068     0\n",
      "15    1541033228056     0\n",
      "16    1541033408017     0\n",
      "17    1541033588076     0\n",
      "18    1541033768063     0\n",
      "19    1541033948020     0\n",
      "20    1541034128073     0\n",
      "21    1541034308032     0\n",
      "22    1541034488073     0\n",
      "23    1541034668074     0\n",
      "24    1541034848072     0\n",
      "25    1541035028100     0\n",
      "26    1541035208040     0\n",
      "27    1541035388081     0\n",
      "28    1541035568115     0\n",
      "29    1541035748086     0\n",
      "...             ...   ...\n",
      "5340  1543590350216     0\n",
      "5341  1543590530216     0\n",
      "5342  1543590710231     0\n",
      "5343  1543590890263     0\n",
      "5344  1543591070167     0\n",
      "5345  1543591250237     0\n",
      "5346  1543591430219     0\n",
      "5347  1543591610223     0\n",
      "5348  1543591790233     0\n",
      "5349  1543591970180     0\n",
      "5350  1543592150227     0\n",
      "5351  1543592330243     0\n",
      "5352  1543592510232     0\n",
      "5353  1543592690330     0\n",
      "5354  1543592870174     0\n",
      "5355  1543593050287     0\n",
      "5356  1543593230247     0\n",
      "5357  1543593410254     0\n",
      "5358  1543593590245     0\n",
      "5359  1543593770200     0\n",
      "5360  1543593950251     0\n",
      "5361  1543594130248     0\n",
      "5362  1543594310249     0\n",
      "5363  1543594490257     0\n",
      "5364  1543594670218     0\n",
      "5365  1543594850261     0\n",
      "5366  1543595030344     0\n",
      "5367  1543595210262     0\n",
      "5368  1543595390271     0\n",
      "5369  1543595570252     0\n",
      "\n",
      "[5370 rows x 2 columns]\n",
      "Power.BatteryVoltHR_2018-11\n",
      "               time  value\n",
      "0     1541030528023  13.70\n",
      "1     1541030707999  13.70\n",
      "2     1541030888115  13.70\n",
      "3     1541031068031  13.70\n",
      "4     1541031248049  13.70\n",
      "5     1541031428056  13.70\n",
      "6     1541031608046  13.70\n",
      "7     1541031788039  13.70\n",
      "8     1541031968060  13.70\n",
      "9     1541032148116  13.70\n",
      "10    1541032328043  13.70\n",
      "11    1541032508018  13.70\n",
      "12    1541032688053  13.70\n",
      "13    1541032868052  13.70\n",
      "14    1541033048068  13.70\n",
      "15    1541033228056  13.70\n",
      "16    1541033408017  13.70\n",
      "17    1541033588076  13.70\n",
      "18    1541033768063  13.70\n",
      "19    1541033948020  13.70\n",
      "20    1541034128073  13.70\n",
      "21    1541034308032  13.70\n",
      "22    1541034488073  13.69\n",
      "23    1541034668074  13.70\n",
      "24    1541034848072  13.69\n",
      "25    1541035028100  13.70\n",
      "26    1541035208040  13.69\n",
      "27    1541035388081  13.69\n",
      "28    1541035568115  13.70\n",
      "29    1541035748086  13.70\n",
      "...             ...    ...\n",
      "5340  1543590350216  12.33\n",
      "5341  1543590530216  12.33\n",
      "5342  1543590710231  12.33\n",
      "5343  1543590890263  12.33\n",
      "5344  1543591070167  12.32\n",
      "5345  1543591250237  12.32\n",
      "5346  1543591430219  12.31\n",
      "5347  1543591610223  12.31\n",
      "5348  1543591790233  12.30\n",
      "5349  1543591970180  12.30\n",
      "5350  1543592150227  12.29\n",
      "5351  1543592330243  12.29\n",
      "5352  1543592510232  12.28\n",
      "5353  1543592690330  12.28\n",
      "5354  1543592870174  12.26\n",
      "5355  1543593050287  12.26\n",
      "5356  1543593230247  12.25\n",
      "5357  1543593410254  12.25\n",
      "5358  1543593590245  12.24\n",
      "5359  1543593770200  12.24\n",
      "5360  1543593950251  12.23\n",
      "5361  1543594130248  12.23\n",
      "5362  1543594310249  12.22\n",
      "5363  1543594490257  12.21\n",
      "5364  1543594670218  12.20\n",
      "5365  1543594850261  12.20\n",
      "5366  1543595030344  12.19\n",
      "5367  1543595210262  12.18\n",
      "5368  1543595390271  12.17\n",
      "5369  1543595570252  12.17\n",
      "\n",
      "[5370 rows x 2 columns]\n",
      "Power.PercentageRemaining_2018-11\n",
      "               time value\n",
      "0     1541030528023     0\n",
      "1     1541030707999     0\n",
      "2     1541030888115     0\n",
      "3     1541031068031     0\n",
      "4     1541031248049     0\n",
      "5     1541031428056     0\n",
      "6     1541031608046     0\n",
      "7     1541031788039     0\n",
      "8     1541031968060     0\n",
      "9     1541032148116     0\n",
      "10    1541032328043     0\n",
      "11    1541032508018     0\n",
      "12    1541032688053     0\n",
      "13    1541032868052     0\n",
      "14    1541033048068     0\n",
      "15    1541033228056     0\n",
      "16    1541033408017     0\n",
      "17    1541033588076     0\n",
      "18    1541033768063     0\n",
      "19    1541033948020     0\n",
      "20    1541034128073     0\n",
      "21    1541034308032     0\n",
      "22    1541034488073     0\n",
      "23    1541034668074     0\n",
      "24    1541034848072     0\n",
      "25    1541035028100     0\n",
      "26    1541035208040     0\n",
      "27    1541035388081     0\n",
      "28    1541035568115     0\n",
      "29    1541035748086     0\n",
      "...             ...   ...\n",
      "5340  1543590350216     0\n",
      "5341  1543590530216     0\n",
      "5342  1543590710231     0\n",
      "5343  1543590890263     0\n",
      "5344  1543591070167     0\n",
      "5345  1543591250237     0\n",
      "5346  1543591430219     0\n",
      "5347  1543591610223     0\n",
      "5348  1543591790233     0\n",
      "5349  1543591970180     0\n",
      "5350  1543592150227     0\n",
      "5351  1543592330243     0\n",
      "5352  1543592510232     0\n",
      "5353  1543592690330     0\n",
      "5354  1543592870174     0\n",
      "5355  1543593050287     0\n",
      "5356  1543593230247     0\n",
      "5357  1543593410254     0\n",
      "5358  1543593590245     0\n",
      "5359  1543593770200     0\n",
      "5360  1543593950251     0\n",
      "5361  1543594130248     0\n",
      "5362  1543594310249     0\n",
      "5363  1543594490257     0\n",
      "5364  1543594670218     0\n",
      "5365  1543594850261     0\n",
      "5366  1543595030344     0\n",
      "5367  1543595210262     0\n",
      "5368  1543595390271     0\n",
      "5369  1543595570252     0\n",
      "\n",
      "[5370 rows x 2 columns]\n",
      "Power.TimeRemaining_2018-11\n",
      "               time value\n",
      "0     1541030528023     0\n",
      "1     1541030707999     0\n",
      "2     1541030888115     0\n",
      "3     1541031068031     0\n",
      "4     1541031248049     0\n",
      "5     1541031428056     0\n",
      "6     1541031608046     0\n",
      "7     1541031788039     0\n",
      "8     1541031968060     0\n",
      "9     1541032148116     0\n",
      "10    1541032328043     0\n",
      "11    1541032508018     0\n",
      "12    1541032688053     0\n",
      "13    1541032868052     0\n",
      "14    1541033048068     0\n",
      "15    1541033228056     0\n",
      "16    1541033408017     0\n",
      "17    1541033588076     0\n",
      "18    1541033768063     0\n",
      "19    1541033948020     0\n",
      "20    1541034128073     0\n",
      "21    1541034308032     0\n",
      "22    1541034488073     0\n",
      "23    1541034668074     0\n",
      "24    1541034848072     0\n",
      "25    1541035028100     0\n",
      "26    1541035208040     0\n",
      "27    1541035388081     0\n",
      "28    1541035568115     0\n",
      "29    1541035748086     0\n",
      "...             ...   ...\n",
      "5341  1543590350216     0\n",
      "5342  1543590530216     0\n",
      "5343  1543590710231     0\n",
      "5344  1543590890263     0\n",
      "5345  1543591070167     0\n",
      "5346  1543591250237     0\n",
      "5347  1543591430219     0\n",
      "5348  1543591610223     0\n",
      "5349  1543591790233     0\n",
      "5350  1543591970180     0\n",
      "5351  1543592150227     0\n",
      "5352  1543592330243     0\n",
      "5353  1543592510232     0\n",
      "5354  1543592690330     0\n",
      "5355  1543592870174     0\n",
      "5356  1543593050287     0\n",
      "5357  1543593230247     0\n",
      "5358  1543593410254     0\n",
      "5359  1543593590245     0\n",
      "5360  1543593770200     0\n",
      "5361  1543593950251     0\n",
      "5362  1543594130248     0\n",
      "5363  1543594310249     0\n",
      "5364  1543594490257     0\n",
      "5365  1543594670218     0\n",
      "5366  1543594850261     0\n",
      "5367  1543595030344     0\n",
      "5368  1543595210262     0\n",
      "5369  1543595390271     0\n",
      "5370  1543595570252     0\n",
      "\n",
      "[5371 rows x 2 columns]\n"
     ]
    }
   ],
   "source": [
    "for i in range(0,len(metricsList)):\n",
    "    print(metricsList[i]+'_'+startDate.strftime('%Y-%m'))\n",
    "    metricID = metricsList[i]\n",
    "\n",
    "    myUrlQuery = 'https://idlab-iot.tengu.io/api/v1/scopes/{scope}/query/{metric}/events?from={start}&to={end}&things={thing}&orderByTime=asc'\\\n",
    "        .format(scope = scopeID, metric = metricID, start=startTime, end=endTime, thing=thingID)\n",
    "\n",
    "    headers = {\n",
    "        'accept': 'application/json',\n",
    "        'authorization': 'Bearer {0}'.format(myToken),\n",
    "    }\n",
    "\n",
    "    response = requests.get(myUrlQuery, headers=headers)\n",
    "    response.content\n",
    "    data = response.json() \n",
    "    column_names = data['columns']; #print(column_names)\n",
    "    values = data['values']\n",
    "    df = pd.DataFrame.from_dict(values)\n",
    "    df.columns = column_names\n",
    "    battery_data = df[['time','value']]\n",
    "    print(battery_data)\n",
    "    path=r'C:\\Users\\Jeff\\Dropbox\\ICT-Elektronica\\Thesis\\scripts\\battery_data'\n",
    "    battery_data.to_csv(path+'\\\\'+metricsList[i]+'_'+startDate.strftime('%Y-%m')+'.csv')"
   ]
  },
  {
   "cell_type": "code",
   "execution_count": null,
   "metadata": {},
   "outputs": [],
   "source": []
  }
 ],
 "metadata": {
  "kernelspec": {
   "display_name": "Python 3",
   "language": "python",
   "name": "python3"
  },
  "language_info": {
   "codemirror_mode": {
    "name": "ipython",
    "version": 3
   },
   "file_extension": ".py",
   "mimetype": "text/x-python",
   "name": "python",
   "nbconvert_exporter": "python",
   "pygments_lexer": "ipython3",
   "version": "3.6.4"
  }
 },
 "nbformat": 4,
 "nbformat_minor": 2
}
