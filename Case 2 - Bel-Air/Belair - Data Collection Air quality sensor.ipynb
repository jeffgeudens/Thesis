{
 "cells": [
  {
   "cell_type": "markdown",
   "metadata": {},
   "source": [
    "# Introduction"
   ]
  },
  {
   "cell_type": "markdown",
   "metadata": {},
   "source": [
    "This script is used to gather data from the stack, in essence the Air Quality data."
   ]
  },
  {
   "cell_type": "markdown",
   "metadata": {},
   "source": [
    "# Initialization"
   ]
  },
  {
   "cell_type": "markdown",
   "metadata": {},
   "source": [
    "## Import libraries"
   ]
  },
  {
   "cell_type": "code",
   "execution_count": 3,
   "metadata": {},
   "outputs": [],
   "source": [
    "import pandas as pd\n",
    "import requests\n",
    "import numpy as np\n",
    "import matplotlib.pyplot as plt\n",
    "import matplotlib.dates as mdates\n",
    "import json\n",
    "from datetime import datetime\n",
    "from datetime import timedelta  \n",
    "import time\n",
    "import sys\n",
    "import plotly\n",
    "import plotly.plotly as py\n",
    "import plotly.graph_objs as go\n",
    "\n",
    "pd.options.mode.chained_assignment = None "
   ]
  },
  {
   "cell_type": "markdown",
   "metadata": {},
   "source": [
    "## Set up parameters"
   ]
  },
  {
   "cell_type": "code",
   "execution_count": 4,
   "metadata": {},
   "outputs": [],
   "source": [
    "##### Choose scope #####\n",
    "scopeID = 'cot.belair'"
   ]
  },
  {
   "cell_type": "code",
   "execution_count": 12,
   "metadata": {},
   "outputs": [],
   "source": [
    "##### Insert token and generate URL #####\n",
    "myToken = 'eyJhbGciOiJSUzI1NiIsInR5cCIgOiAiSldUIiwia2lkIiA6ICIwUnhaVzd0N1d5aEczaEo3cUhoM3hQa3MzbkthTUE5Zy04SnozY2trQ3EwIn0.eyJqdGkiOiIxNzY0MTRmZC00MmEyLTQzYjktODkxZi1mNWU5NTU2ZjM4MDEiLCJleHAiOjE1NTI1NTM1OTUsIm5iZiI6MCwiaWF0IjoxNTUyNTUyOTk1LCJpc3MiOiJodHRwczovL2lkbGFiLWlvdC50ZW5ndS5pby9hdXRoL3JlYWxtcy9pZGxhYi1pb3QiLCJhdWQiOiJwb2xpY3ktZW5mb3JjZXIiLCJzdWIiOiI3NGVjNTQzYi03Yjc1LTQ1ZGItOWExNy0xMDY5OTlmYmU3OWEiLCJ0eXAiOiJCZWFyZXIiLCJhenAiOiJzd2FnZ2VyLXVpIiwibm9uY2UiOiJjNDhhNmEzZi00ODdlLTQ1NzktOTQ1ZS1mYjg5Zjc0MzBkYWQiLCJhdXRoX3RpbWUiOjE1NTI1NTE4NzEsInNlc3Npb25fc3RhdGUiOiI2MWYyYTRlZC1mNWQwLTQ5YzgtOWE2Ni1hZGYyY2RiZjk3YjkiLCJhY3IiOiIwIiwiYWxsb3dlZC1vcmlnaW5zIjpbImh0dHBzOi8vaWRsYWItaW90LnRlbmd1LmlvIiwiaHR0cDovL2xvY2FsaG9zdDo1NTU1Il0sInJlc291cmNlX2FjY2VzcyI6eyJwb2xpY3ktZW5mb3JjZXIiOnsicm9sZXMiOlsidXNlcjp2aWV3Il19fSwiYXV0aG9yaXphdGlvbiI6eyJwZXJtaXNzaW9ucyI6W3sicnNpZCI6IjQxOGFiMGYzLWE5NTQtNGEwMS04ZTdlLWFlZGQzN2VjZTcyMyIsInJzbmFtZSI6ImRhdGE6c2NvcGVkOnZpZXcifV19LCJzY29wZSI6Im9wZW5pZCBwcm9maWxlIGVtYWlsIGNvdC1zY29wZSIsImVtYWlsX3ZlcmlmaWVkIjpmYWxzZSwicmlnaHRzIjpbXSwibmFtZSI6IkplZmYgR2V1ZGVucyIsImdyb3VwcyI6WyIvYWxsLXVzZXJzIiwiL2NvdC90aGVzaXMiXSwicHJlZmVycmVkX3VzZXJuYW1lIjoiZ2V1ZGVucy5qZWZmQGdtYWlsLmNvbSIsImdpdmVuX25hbWUiOiJKZWZmIiwiZmFtaWx5X25hbWUiOiJHZXVkZW5zIiwiZW1haWwiOiJnZXVkZW5zLmplZmZAZ21haWwuY29tIiwicGljdHVyZSI6Imh0dHBzOi8vbGg1Lmdvb2dsZXVzZXJjb250ZW50LmNvbS8tRTYxVzBvTmFlOUkvQUFBQUFBQUFBQUkvQUFBQUFBQUFCd2MvUExDNy1mNTdnek0vcGhvdG8uanBnP3N6PTUwIn0.VaIMDTXSSWKED2g1CJJCLQ5urRxU938AbmaRnC2jYPdNh62i9iLW78HgxNrpuPvzWPRz71p9jl60eAvD21zcarFGVfaUJB-iSstjGTixEXiCAlefsh0fn3E6QwV8y-n3XvdRKULxkqzhyl7R7lARcBabFRvLqFMY389_sbkRcFQX8OiKyh_AsWD4YrGR0ZLuzyso9r13hnBfuV4QflX27MukoR1FgHOiKESecNl0veDj7NTNKHA2wZC-pi4ufmA9uTUpRLXVvTpynSYP0CinoexLBcHBhSAfjS3TFCN7oARfk4kuiI2QpeCj9TK_F6YpdCQLbbZa0Ahb8265W1r-sA'"
   ]
  },
  {
   "cell_type": "code",
   "execution_count": 6,
   "metadata": {},
   "outputs": [],
   "source": [
    "##### Specify time range #####\n",
    "##### Adjust this time range to specify which period you want to query - Mostly I use periods of one month #####\n",
    "startDate = datetime(2018, 12, 17, 1, 0)\n",
    "endDate = datetime(2019, 2, 1, 1, 0)\n",
    "startTime = int(startDate.timestamp())*1000;  #print(startTime)\n",
    "endTime = int(endDate.timestamp())*1000;  #print(endTime)"
   ]
  },
  {
   "cell_type": "markdown",
   "metadata": {},
   "source": [
    "# Lora Air quality sensor"
   ]
  },
  {
   "cell_type": "code",
   "execution_count": 7,
   "metadata": {},
   "outputs": [],
   "source": [
    "thingID = 'lora.343233386B376717'"
   ]
  },
  {
   "cell_type": "markdown",
   "metadata": {},
   "source": [
    "### Choose metrics"
   ]
  },
  {
   "cell_type": "code",
   "execution_count": 8,
   "metadata": {},
   "outputs": [],
   "source": [
    "#metricsList = ['environment.light','environment.temperature','weather.uv','environment.relativehumidity']\n",
    "metricsList = ['airquality.no2', 'airquality.o3', 'airquality.pm1', 'airquality.pm10', \n",
    "               'airquality.pm25', 'environment.relativehumidity', 'environment.temperature']"
   ]
  },
  {
   "cell_type": "markdown",
   "metadata": {},
   "source": [
    "### Run query"
   ]
  },
  {
   "cell_type": "code",
   "execution_count": 13,
   "metadata": {},
   "outputs": [
    {
     "name": "stdout",
     "output_type": "stream",
     "text": [
      "airquality.no2_Belair\n",
      "airquality.o3_Belair\n",
      "airquality.pm1_Belair\n",
      "airquality.pm10_Belair\n",
      "airquality.pm25_Belair\n",
      "environment.relativehumidity_Belair\n",
      "environment.temperature_Belair\n"
     ]
    }
   ],
   "source": [
    "for i in range(0,len(metricsList)):\n",
    "    print(metricsList[i]+'_Belair')\n",
    "    metricID = metricsList[i]\n",
    "\n",
    "    myUrlQuery = 'https://idlab-iot.tengu.io/api/v1/scopes/{scope}/query/{metric}/events?from={start}&to={end}&things={thing}&orderByTime=asc'\\\n",
    "        .format(scope = scopeID, metric = metricID, start=startTime, end=endTime, thing=thingID)\n",
    "\n",
    "    headers = {\n",
    "        'accept': 'application/json',\n",
    "        'authorization': 'Bearer {0}'.format(myToken),\n",
    "    }\n",
    "\n",
    "    response = requests.get(myUrlQuery, headers=headers)\n",
    "    #print(response.content)\n",
    "    data = response.json() \n",
    "    column_names = data['columns']; #print(column_names)\n",
    "    values = data['values']\n",
    "    df = pd.DataFrame.from_dict(values)\n",
    "    df.columns = column_names\n",
    "    air_data = df[['time','value']]\n",
    "#     print(weather_data)\n",
    "    path=r'C:\\Users\\JeffG\\Desktop\\Case 2 - data\\data'\n",
    "    air_data.to_csv(path+'\\\\'+str(thingID) +'_' + metricsList[i]+'_Belair'+'.csv')"
   ]
  },
  {
   "cell_type": "code",
   "execution_count": null,
   "metadata": {},
   "outputs": [],
   "source": []
  }
 ],
 "metadata": {
  "kernelspec": {
   "display_name": "Python 3",
   "language": "python",
   "name": "python3"
  },
  "language_info": {
   "codemirror_mode": {
    "name": "ipython",
    "version": 3
   },
   "file_extension": ".py",
   "mimetype": "text/x-python",
   "name": "python",
   "nbconvert_exporter": "python",
   "pygments_lexer": "ipython3",
   "version": "3.6.4"
  }
 },
 "nbformat": 4,
 "nbformat_minor": 2
}
