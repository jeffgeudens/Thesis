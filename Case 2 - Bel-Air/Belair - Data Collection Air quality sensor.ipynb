{
 "cells": [
  {
   "cell_type": "markdown",
   "metadata": {},
   "source": [
    "# Introduction"
   ]
  },
  {
   "cell_type": "markdown",
   "metadata": {},
   "source": [
    "This script is used to gather data from the stack, in essence the Air Quality data."
   ]
  },
  {
   "cell_type": "markdown",
   "metadata": {},
   "source": [
    "# Initialization"
   ]
  },
  {
   "cell_type": "markdown",
   "metadata": {},
   "source": [
    "## Import libraries"
   ]
  },
  {
   "cell_type": "code",
   "execution_count": 14,
   "metadata": {},
   "outputs": [],
   "source": [
    "import pandas as pd\n",
    "import requests\n",
    "import numpy as np\n",
    "import matplotlib.pyplot as plt\n",
    "import matplotlib.dates as mdates\n",
    "import json\n",
    "from datetime import datetime\n",
    "from datetime import timedelta  \n",
    "import time\n",
    "import sys\n",
    "import plotly\n",
    "import plotly.plotly as py\n",
    "import plotly.graph_objs as go\n",
    "import os\n",
    "\n",
    "pd.options.mode.chained_assignment = None "
   ]
  },
  {
   "cell_type": "markdown",
   "metadata": {},
   "source": [
    "## Set up parameters"
   ]
  },
  {
   "cell_type": "code",
   "execution_count": 17,
   "metadata": {},
   "outputs": [],
   "source": [
    "##### Choose scope #####\n",
    "scopeID = 'cot.belair'"
   ]
  },
  {
   "cell_type": "code",
   "execution_count": 23,
   "metadata": {},
   "outputs": [],
   "source": [
    "##### Insert token and generate URL #####\n",
    "myToken = 'eyJhbGciOiJSUzI1NiIsInR5cCIgOiAiSldUIiwia2lkIiA6ICIwUnhaVzd0N1d5aEczaEo3cUhoM3hQa3MzbkthTUE5Zy04SnozY2trQ3EwIn0.eyJqdGkiOiJmYjA4YWI5Mi0zOGVkLTRjNzEtYTM0Yy02YjQ3YWI5OTc2MTQiLCJleHAiOjE1NTMxNzkzOTMsIm5iZiI6MCwiaWF0IjoxNTUzMTc4NzkzLCJpc3MiOiJodHRwczovL2lkbGFiLWlvdC50ZW5ndS5pby9hdXRoL3JlYWxtcy9pZGxhYi1pb3QiLCJhdWQiOiJwb2xpY3ktZW5mb3JjZXIiLCJzdWIiOiI3NGVjNTQzYi03Yjc1LTQ1ZGItOWExNy0xMDY5OTlmYmU3OWEiLCJ0eXAiOiJCZWFyZXIiLCJhenAiOiJzd2FnZ2VyLXVpIiwibm9uY2UiOiJkMmMwOTdlOS0xOWE2LTQ1NWMtYjJkYy0yOTUwNmIwODUwYTQiLCJhdXRoX3RpbWUiOjE1NTMxNzUyNzEsInNlc3Npb25fc3RhdGUiOiJmYWM5NTZiYi1mZTM2LTQyM2EtYTgzOC02YTZlM2IyODhkYWQiLCJhY3IiOiIwIiwiYWxsb3dlZC1vcmlnaW5zIjpbImh0dHBzOi8vaWRsYWItaW90LnRlbmd1LmlvIiwiaHR0cDovL2xvY2FsaG9zdDo1NTU1Il0sInJlc291cmNlX2FjY2VzcyI6eyJwb2xpY3ktZW5mb3JjZXIiOnsicm9sZXMiOlsidXNlcjp2aWV3Il19fSwiYXV0aG9yaXphdGlvbiI6eyJwZXJtaXNzaW9ucyI6W3sicnNpZCI6IjQxOGFiMGYzLWE5NTQtNGEwMS04ZTdlLWFlZGQzN2VjZTcyMyIsInJzbmFtZSI6ImRhdGE6c2NvcGVkOnZpZXcifV19LCJzY29wZSI6Im9wZW5pZCBwcm9maWxlIGVtYWlsIGNvdC1zY29wZSIsImVtYWlsX3ZlcmlmaWVkIjpmYWxzZSwicmlnaHRzIjpbXSwibmFtZSI6IkplZmYgR2V1ZGVucyIsImdyb3VwcyI6WyIvYWxsLXVzZXJzIiwiL2NvdC90aGVzaXMiXSwicHJlZmVycmVkX3VzZXJuYW1lIjoiZ2V1ZGVucy5qZWZmQGdtYWlsLmNvbSIsImdpdmVuX25hbWUiOiJKZWZmIiwiZmFtaWx5X25hbWUiOiJHZXVkZW5zIiwiZW1haWwiOiJnZXVkZW5zLmplZmZAZ21haWwuY29tIiwicGljdHVyZSI6Imh0dHBzOi8vbGg1Lmdvb2dsZXVzZXJjb250ZW50LmNvbS8tRTYxVzBvTmFlOUkvQUFBQUFBQUFBQUkvQUFBQUFBQUFCd2MvUExDNy1mNTdnek0vcGhvdG8uanBnP3N6PTUwIn0.fWSLLm7TSDiBXS2f-VEttD0Mt1tQ-rWR7ce_oAPWqjonBzVVbwEg0Datpjj-3PhxbDtqmm7Iye0eDe3G5RnUwlTvVPW8rCqSuulcNCZgLlZcZEStTtDGJ6re-Q1zh2Ta87XNxd-rY9hnEzDNa01AweZ3V67BzV8Brka_6PHEDOAR_qOrwyVwvWiFGaP-afKyI_lgEycee_zKPrDPuUiHEcgWY5PEjZdmjgl-8ocMidNQlcU6IQZ35AF7QzClIGy47Vk41dpzImIHRVtTYRj5cYiD67gZQPPtzibWXb5JwrphalDFccdCFlwG1O_G3oa583NRTxhmvbF945C8LoGQiA'"
   ]
  },
  {
   "cell_type": "code",
   "execution_count": 19,
   "metadata": {},
   "outputs": [],
   "source": [
    "##### Specify time range #####\n",
    "##### Adjust this time range to specify which period you want to query - Mostly I use periods of one month #####\n",
    "startDate = datetime(2018, 12, 17, 1, 0)\n",
    "endDate = datetime(2019, 2, 1, 1, 0)\n",
    "startTime = int(startDate.timestamp())*1000;  #print(startTime)\n",
    "endTime = int(endDate.timestamp())*1000;  #print(endTime)"
   ]
  },
  {
   "cell_type": "markdown",
   "metadata": {},
   "source": [
    "# Lora Air quality sensor"
   ]
  },
  {
   "cell_type": "markdown",
   "metadata": {},
   "source": [
    "## Get ID's of the air quality sensors"
   ]
  },
  {
   "cell_type": "code",
   "execution_count": 2,
   "metadata": {},
   "outputs": [],
   "source": [
    "import pymongo\n",
    "from pymongo import MongoClient"
   ]
  },
  {
   "cell_type": "code",
   "execution_count": 5,
   "metadata": {},
   "outputs": [
    {
     "name": "stdout",
     "output_type": "stream",
     "text": [
      "193008\n"
     ]
    },
    {
     "data": {
      "text/html": [
       "<div>\n",
       "<style scoped>\n",
       "    .dataframe tbody tr th:only-of-type {\n",
       "        vertical-align: middle;\n",
       "    }\n",
       "\n",
       "    .dataframe tbody tr th {\n",
       "        vertical-align: top;\n",
       "    }\n",
       "\n",
       "    .dataframe thead th {\n",
       "        text-align: right;\n",
       "    }\n",
       "</style>\n",
       "<table border=\"1\" class=\"dataframe\">\n",
       "  <thead>\n",
       "    <tr style=\"text-align: right;\">\n",
       "      <th></th>\n",
       "      <th>_id</th>\n",
       "      <th>device</th>\n",
       "      <th>gateways</th>\n",
       "      <th>gpsLat</th>\n",
       "      <th>gpsLon</th>\n",
       "      <th>hdop</th>\n",
       "      <th>rx_time</th>\n",
       "      <th>seqNumber</th>\n",
       "      <th>spfact</th>\n",
       "    </tr>\n",
       "  </thead>\n",
       "  <tbody>\n",
       "    <tr>\n",
       "      <th>0</th>\n",
       "      <td>5c17af0d4fa20f164de4b0bb</td>\n",
       "      <td>3432333852378918</td>\n",
       "      <td>[{'rssi': -93, 'esp': -93.461838, 'snr': 10, '...</td>\n",
       "      <td>51.194618</td>\n",
       "      <td>4.418419</td>\n",
       "      <td>0.66</td>\n",
       "      <td>2018-12-17 14:13:33.410</td>\n",
       "      <td>54916</td>\n",
       "      <td>7</td>\n",
       "    </tr>\n",
       "    <tr>\n",
       "      <th>1</th>\n",
       "      <td>5c17af2d4fa20f164de4b0c7</td>\n",
       "      <td>3432333852378918</td>\n",
       "      <td>[{'rssi': -104, 'esp': -104.331955, 'snr': 11,...</td>\n",
       "      <td>51.194618</td>\n",
       "      <td>4.418417</td>\n",
       "      <td>0.69</td>\n",
       "      <td>2018-12-17 14:14:04.616</td>\n",
       "      <td>54917</td>\n",
       "      <td>7</td>\n",
       "    </tr>\n",
       "    <tr>\n",
       "      <th>2</th>\n",
       "      <td>5c17af3c4fa20f164de4b0cb</td>\n",
       "      <td>3432333855378A18</td>\n",
       "      <td>[{'rssi': -107, 'esp': -111.124428, 'snr': -2,...</td>\n",
       "      <td>51.215408</td>\n",
       "      <td>4.413910</td>\n",
       "      <td>0.67</td>\n",
       "      <td>2018-12-17 14:14:19.768</td>\n",
       "      <td>15653</td>\n",
       "      <td>7</td>\n",
       "    </tr>\n",
       "    <tr>\n",
       "      <th>3</th>\n",
       "      <td>5c17af4d4fa20f164de4b0d4</td>\n",
       "      <td>3432333852378918</td>\n",
       "      <td>[{'rssi': -107, 'esp': -107.973228, 'snr': 6, ...</td>\n",
       "      <td>51.194614</td>\n",
       "      <td>4.418419</td>\n",
       "      <td>0.74</td>\n",
       "      <td>2018-12-17 14:14:36.499</td>\n",
       "      <td>54918</td>\n",
       "      <td>7</td>\n",
       "    </tr>\n",
       "    <tr>\n",
       "      <th>4</th>\n",
       "      <td>5c17af604fa20f164de4b0df</td>\n",
       "      <td>3432333851378918</td>\n",
       "      <td>[{'rssi': -114, 'esp': -119.455406, 'snr': -4,...</td>\n",
       "      <td>51.241817</td>\n",
       "      <td>4.430120</td>\n",
       "      <td>0.66</td>\n",
       "      <td>2018-12-17 14:14:56.056</td>\n",
       "      <td>48522</td>\n",
       "      <td>7</td>\n",
       "    </tr>\n",
       "  </tbody>\n",
       "</table>\n",
       "</div>"
      ],
      "text/plain": [
       "                        _id            device  \\\n",
       "0  5c17af0d4fa20f164de4b0bb  3432333852378918   \n",
       "1  5c17af2d4fa20f164de4b0c7  3432333852378918   \n",
       "2  5c17af3c4fa20f164de4b0cb  3432333855378A18   \n",
       "3  5c17af4d4fa20f164de4b0d4  3432333852378918   \n",
       "4  5c17af604fa20f164de4b0df  3432333851378918   \n",
       "\n",
       "                                            gateways     gpsLat    gpsLon  \\\n",
       "0  [{'rssi': -93, 'esp': -93.461838, 'snr': 10, '...  51.194618  4.418419   \n",
       "1  [{'rssi': -104, 'esp': -104.331955, 'snr': 11,...  51.194618  4.418417   \n",
       "2  [{'rssi': -107, 'esp': -111.124428, 'snr': -2,...  51.215408  4.413910   \n",
       "3  [{'rssi': -107, 'esp': -107.973228, 'snr': 6, ...  51.194614  4.418419   \n",
       "4  [{'rssi': -114, 'esp': -119.455406, 'snr': -4,...  51.241817  4.430120   \n",
       "\n",
       "   hdop                 rx_time  seqNumber  spfact  \n",
       "0  0.66 2018-12-17 14:13:33.410      54916       7  \n",
       "1  0.69 2018-12-17 14:14:04.616      54917       7  \n",
       "2  0.67 2018-12-17 14:14:19.768      15653       7  \n",
       "3  0.74 2018-12-17 14:14:36.499      54918       7  \n",
       "4  0.66 2018-12-17 14:14:56.056      48522       7  "
      ]
     },
     "execution_count": 5,
     "metadata": {},
     "output_type": "execute_result"
    }
   ],
   "source": [
    "client = MongoClient('localhost', 27017)\n",
    "db = client.Belair\n",
    "collection = db.data\n",
    "# Extract data, sort by timestamp and reset indexes\n",
    "df = pd.DataFrame(list(collection.find())).reset_index(drop=True)\n",
    "print(len(df))\n",
    "df.head()"
   ]
  },
  {
   "cell_type": "code",
   "execution_count": 15,
   "metadata": {},
   "outputs": [
    {
     "data": {
      "text/plain": [
       "['lora.3432333852378918',\n",
       " 'lora.3432333855378A18',\n",
       " 'lora.3432333851378918',\n",
       " 'lora.3432333864377C18',\n",
       " 'lora.3432333855376418',\n",
       " 'lora.3432333853376B18',\n",
       " 'lora.343233386B376717',\n",
       " 'lora.3432333851376518',\n",
       " 'lora.3432333855376318',\n",
       " 'lora.3432333860376818',\n",
       " 'lora.343233384D378718',\n",
       " 'lora.343233384F378B18',\n",
       " 'lora.343233386A377C18',\n",
       " 'lora.3432333864378618',\n",
       " 'lora.3432333857376218',\n",
       " 'lora.343233385F377C18']"
      ]
     },
     "execution_count": 15,
     "metadata": {},
     "output_type": "execute_result"
    }
   ],
   "source": [
    "devices = df['device'].unique()\n",
    "device_list = list()\n",
    "for i in range(0,len(devices)):\n",
    "    dev = 'lora.' + str(devices[i])\n",
    "    device_list.append(dev)\n",
    "    newpath = r'C:\\Users\\JeffG\\Desktop\\Case 2 - data\\data/' + dev\n",
    "    if not os.path.exists(newpath):\n",
    "        os.makedirs(newpath)\n",
    "    \n",
    "device_list"
   ]
  },
  {
   "cell_type": "markdown",
   "metadata": {},
   "source": [
    "## Choose metrics"
   ]
  },
  {
   "cell_type": "code",
   "execution_count": 16,
   "metadata": {},
   "outputs": [],
   "source": [
    "#metricsList = ['environment.light','environment.temperature','weather.uv','environment.relativehumidity']\n",
    "metricsList = ['airquality.no2', 'airquality.o3', 'airquality.pm1', 'airquality.pm10', \n",
    "               'airquality.pm25', 'environment.relativehumidity', 'environment.temperature']"
   ]
  },
  {
   "cell_type": "markdown",
   "metadata": {},
   "source": [
    "## Run query"
   ]
  },
  {
   "cell_type": "code",
   "execution_count": 24,
   "metadata": {},
   "outputs": [
    {
     "name": "stdout",
     "output_type": "stream",
     "text": [
      "lora.3432333857376218_airquality.no2\n",
      "lora.3432333857376218_airquality.o3\n",
      "lora.3432333857376218_airquality.pm1\n",
      "lora.3432333857376218_airquality.pm10\n",
      "lora.3432333857376218_airquality.pm25\n",
      "lora.3432333857376218_environment.relativehumidity\n",
      "lora.3432333857376218_environment.temperature\n",
      "lora.343233385F377C18_airquality.no2\n",
      "lora.343233385F377C18_airquality.o3\n",
      "lora.343233385F377C18_airquality.pm1\n",
      "lora.343233385F377C18_airquality.pm10\n",
      "lora.343233385F377C18_airquality.pm25\n",
      "lora.343233385F377C18_environment.relativehumidity\n",
      "lora.343233385F377C18_environment.temperature\n"
     ]
    }
   ],
   "source": [
    "for j in range(14,len(device_list)):\n",
    "    thingID = device_list[j]\n",
    "    for i in range(0,len(metricsList)):     \n",
    "        metricID = metricsList[i]\n",
    "        print(thingID + '_' + metricID)\n",
    "\n",
    "        myUrlQuery = 'https://idlab-iot.tengu.io/api/v1/scopes/{scope}/query/{metric}/events?from={start}&to={end}&things={thing}&orderByTime=asc'\\\n",
    "            .format(scope = scopeID, metric = metricID, start=startTime, end=endTime, thing=thingID)\n",
    "\n",
    "        headers = {\n",
    "            'accept': 'application/json',\n",
    "            'authorization': 'Bearer {0}'.format(myToken),\n",
    "        }\n",
    "\n",
    "        response = requests.get(myUrlQuery, headers=headers)\n",
    "        #print(response.content)\n",
    "        data = response.json() \n",
    "        column_names = data['columns']; #print(column_names)\n",
    "        values = data['values']\n",
    "        df = pd.DataFrame.from_dict(values)\n",
    "        df.columns = column_names\n",
    "        air_data = df[['time','value']]\n",
    "    #     print(weather_data)\n",
    "        path=r'C:\\Users\\JeffG\\Desktop\\Case 2 - data\\data/' + thingID\n",
    "        air_data.to_csv(path+'\\\\'+str(thingID) +'_' + metricsList[i]+'_Belair'+'.csv')"
   ]
  },
  {
   "cell_type": "code",
   "execution_count": 28,
   "metadata": {},
   "outputs": [
    {
     "name": "stdout",
     "output_type": "stream",
     "text": [
      "lora.3432333852378918\n",
      "93025\n",
      "93025\n",
      "92654\n",
      "93024\n",
      "93025\n",
      "93025\n",
      "93025\n",
      "lora.3432333855378A18\n",
      "78838\n",
      "78838\n",
      "53674\n",
      "78798\n",
      "78838\n",
      "78838\n",
      "78838\n",
      "lora.3432333851378918\n",
      "109795\n",
      "109795\n",
      "108661\n",
      "109792\n",
      "109795\n",
      "109795\n",
      "109795\n",
      "lora.3432333864377C18\n",
      "104696\n",
      "104696\n",
      "102018\n",
      "104692\n",
      "104696\n",
      "104696\n",
      "104696\n",
      "lora.3432333855376418\n",
      "103826\n",
      "103826\n",
      "97461\n",
      "103811\n",
      "103826\n",
      "103826\n",
      "103826\n",
      "lora.3432333853376B18\n",
      "97035\n",
      "97035\n",
      "96772\n",
      "97035\n",
      "97035\n",
      "97035\n",
      "97035\n",
      "lora.343233386B376717\n",
      "92096\n",
      "92096\n",
      "70635\n",
      "92053\n",
      "92096\n",
      "92096\n",
      "92096\n",
      "lora.3432333851376518\n",
      "8576\n",
      "8576\n",
      "6531\n",
      "8570\n",
      "8576\n",
      "8576\n",
      "8576\n",
      "lora.3432333855376318\n",
      "83572\n",
      "83572\n",
      "36130\n",
      "83489\n",
      "83572\n",
      "83572\n",
      "83572\n",
      "lora.3432333860376818\n",
      "101486\n",
      "101486\n",
      "101329\n",
      "101486\n",
      "101486\n",
      "101486\n",
      "101486\n",
      "lora.343233384D378718\n",
      "8098\n",
      "8098\n",
      "1819\n",
      "8082\n",
      "8098\n",
      "8098\n",
      "8098\n",
      "lora.343233384F378B18\n",
      "23452\n",
      "23452\n",
      "11963\n",
      "23424\n",
      "23452\n",
      "23452\n",
      "23452\n",
      "lora.343233386A377C18\n",
      "109808\n",
      "109808\n",
      "108703\n",
      "109807\n",
      "109808\n",
      "109808\n",
      "109808\n",
      "lora.3432333864378618\n",
      "94525\n",
      "94525\n",
      "83202\n",
      "94501\n",
      "94525\n",
      "94525\n",
      "94525\n",
      "lora.3432333857376218\n",
      "95732\n",
      "95732\n",
      "92236\n",
      "95718\n",
      "95732\n",
      "95732\n",
      "95732\n",
      "lora.343233385F377C18\n",
      "72017\n",
      "72017\n",
      "55775\n",
      "71977\n",
      "72017\n",
      "72017\n",
      "72017\n"
     ]
    }
   ],
   "source": [
    "for dev in device_list:\n",
    "    print(dev)\n",
    "    path = r'C:\\Users\\JeffG\\Desktop\\Case 2 - data\\data/' + dev\n",
    "    for metricID in metricsList:\n",
    "        df = pd.read_csv(path+'\\\\'+str(dev) +'_' + metricID +'_Belair'+'.csv')\n",
    "        print(len(df))"
   ]
  },
  {
   "cell_type": "markdown",
   "metadata": {},
   "source": [
    "Conclusion:\n",
    "We can use the timestamps op NO2, O3, RH or temperature to fill the gaps. \n",
    "The amount of data per sensor is not the same"
   ]
  },
  {
   "cell_type": "code",
   "execution_count": 27,
   "metadata": {},
   "outputs": [],
   "source": [
    "dev = 'lora.3432333852378918'"
   ]
  },
  {
   "cell_type": "code",
   "execution_count": null,
   "metadata": {},
   "outputs": [],
   "source": []
  }
 ],
 "metadata": {
  "kernelspec": {
   "display_name": "Python 3",
   "language": "python",
   "name": "python3"
  },
  "language_info": {
   "codemirror_mode": {
    "name": "ipython",
    "version": 3
   },
   "file_extension": ".py",
   "mimetype": "text/x-python",
   "name": "python",
   "nbconvert_exporter": "python",
   "pygments_lexer": "ipython3",
   "version": "3.6.4"
  },
  "toc": {
   "base_numbering": 1,
   "nav_menu": {},
   "number_sections": true,
   "sideBar": true,
   "skip_h1_title": false,
   "title_cell": "Table of Contents",
   "title_sidebar": "Contents",
   "toc_cell": false,
   "toc_position": {},
   "toc_section_display": true,
   "toc_window_display": false
  }
 },
 "nbformat": 4,
 "nbformat_minor": 2
}
